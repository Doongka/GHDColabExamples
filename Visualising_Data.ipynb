{
  "nbformat": 4,
  "nbformat_minor": 0,
  "metadata": {
    "colab": {
      "name": "Visualising Data.ipynb",
      "provenance": [],
      "toc_visible": true,
      "include_colab_link": true
    },
    "kernelspec": {
      "name": "python3",
      "display_name": "Python 3"
    }
  },
  "cells": [
    {
      "cell_type": "markdown",
      "metadata": {
        "id": "view-in-github",
        "colab_type": "text"
      },
      "source": [
        "<a href=\"https://colab.research.google.com/github/Doongka/GHDColabExamples/blob/master/Visualising_Data.ipynb\" target=\"_parent\"><img src=\"https://colab.research.google.com/assets/colab-badge.svg\" alt=\"Open In Colab\"/></a>"
      ]
    },
    {
      "cell_type": "markdown",
      "metadata": {
        "id": "emFym08P7uPv",
        "colab_type": "text"
      },
      "source": [
        "# Data Visualization Example\n",
        "The goal of this notebook is to provide a quick overview of some useful Python tools used for cleaning, analysing and visualizing data.\n",
        "\n",
        "It has has been created using Google Colab, a free cloud-based notebook environment that allows you to write and execute Python code without needing to set up your own local Python environment.\n",
        "\n",
        "This notebook will allow you to run the code in segments as you go.  When you get to a code block, you can execute (run) the code by pressing CTRL-ENTER.  \n",
        "\n",
        "Try it on the code block below.  If successful you will see the words \"Hello World!\" output below the code."
      ]
    },
    {
      "cell_type": "code",
      "metadata": {
        "id": "fbb119Xo9g2t",
        "colab_type": "code",
        "colab": {}
      },
      "source": [
        "# assign the \n",
        "string = \"Hello World!\"\n",
        "print(string)"
      ],
      "execution_count": 0,
      "outputs": []
    },
    {
      "cell_type": "markdown",
      "metadata": {
        "id": "EgPfO6FWnMEe",
        "colab_type": "text"
      },
      "source": [
        "## Prepare the workspace\n",
        "Google Colab has many useful python packages preinstalled such so there shouldn't be any need to install them yourself.  If case you do need something that is not installed, you can run a \"pip\" installation as per below.  "
      ]
    },
    {
      "cell_type": "code",
      "metadata": {
        "id": "4tOQpc6XK1xp",
        "colab_type": "code",
        "colab": {
          "base_uri": "https://localhost:8080/",
          "height": 646
        },
        "outputId": "948aed5f-75a7-409a-c4a1-b090b20c70b5"
      },
      "source": [
        "# We place a ! in front of the command to indicate that we want this to run in a console.\n",
        "# !pip install geopandas"
      ],
      "execution_count": 6,
      "outputs": [
        {
          "output_type": "stream",
          "text": [
            "Collecting geopandas\n",
            "\u001b[?25l  Downloading https://files.pythonhosted.org/packages/59/39/de0263d511d4fc35a640cf00d02e497eb60698315a22936bedbdd904d7f7/geopandas-0.6.1-py2.py3-none-any.whl (918kB)\n",
            "\r\u001b[K     |▍                               | 10kB 18.9MB/s eta 0:00:01\r\u001b[K     |▊                               | 20kB 6.9MB/s eta 0:00:01\r\u001b[K     |█                               | 30kB 9.7MB/s eta 0:00:01\r\u001b[K     |█▍                              | 40kB 6.0MB/s eta 0:00:01\r\u001b[K     |█▉                              | 51kB 7.3MB/s eta 0:00:01\r\u001b[K     |██▏                             | 61kB 8.6MB/s eta 0:00:01\r\u001b[K     |██▌                             | 71kB 9.9MB/s eta 0:00:01\r\u001b[K     |██▉                             | 81kB 11.0MB/s eta 0:00:01\r\u001b[K     |███▏                            | 92kB 12.2MB/s eta 0:00:01\r\u001b[K     |███▋                            | 102kB 9.5MB/s eta 0:00:01\r\u001b[K     |████                            | 112kB 9.5MB/s eta 0:00:01\r\u001b[K     |████▎                           | 122kB 9.5MB/s eta 0:00:01\r\u001b[K     |████▋                           | 133kB 9.5MB/s eta 0:00:01\r\u001b[K     |█████                           | 143kB 9.5MB/s eta 0:00:01\r\u001b[K     |█████▍                          | 153kB 9.5MB/s eta 0:00:01\r\u001b[K     |█████▊                          | 163kB 9.5MB/s eta 0:00:01\r\u001b[K     |██████                          | 174kB 9.5MB/s eta 0:00:01\r\u001b[K     |██████▍                         | 184kB 9.5MB/s eta 0:00:01\r\u001b[K     |██████▉                         | 194kB 9.5MB/s eta 0:00:01\r\u001b[K     |███████▏                        | 204kB 9.5MB/s eta 0:00:01\r\u001b[K     |███████▌                        | 215kB 9.5MB/s eta 0:00:01\r\u001b[K     |███████▉                        | 225kB 9.5MB/s eta 0:00:01\r\u001b[K     |████████▏                       | 235kB 9.5MB/s eta 0:00:01\r\u001b[K     |████████▋                       | 245kB 9.5MB/s eta 0:00:01\r\u001b[K     |█████████                       | 256kB 9.5MB/s eta 0:00:01\r\u001b[K     |█████████▎                      | 266kB 9.5MB/s eta 0:00:01\r\u001b[K     |█████████▋                      | 276kB 9.5MB/s eta 0:00:01\r\u001b[K     |██████████                      | 286kB 9.5MB/s eta 0:00:01\r\u001b[K     |██████████▍                     | 296kB 9.5MB/s eta 0:00:01\r\u001b[K     |██████████▊                     | 307kB 9.5MB/s eta 0:00:01\r\u001b[K     |███████████                     | 317kB 9.5MB/s eta 0:00:01\r\u001b[K     |███████████▍                    | 327kB 9.5MB/s eta 0:00:01\r\u001b[K     |███████████▊                    | 337kB 9.5MB/s eta 0:00:01\r\u001b[K     |████████████▏                   | 348kB 9.5MB/s eta 0:00:01\r\u001b[K     |████████████▌                   | 358kB 9.5MB/s eta 0:00:01\r\u001b[K     |████████████▉                   | 368kB 9.5MB/s eta 0:00:01\r\u001b[K     |█████████████▏                  | 378kB 9.5MB/s eta 0:00:01\r\u001b[K     |█████████████▋                  | 389kB 9.5MB/s eta 0:00:01\r\u001b[K     |██████████████                  | 399kB 9.5MB/s eta 0:00:01\r\u001b[K     |██████████████▎                 | 409kB 9.5MB/s eta 0:00:01\r\u001b[K     |██████████████▋                 | 419kB 9.5MB/s eta 0:00:01\r\u001b[K     |███████████████                 | 430kB 9.5MB/s eta 0:00:01\r\u001b[K     |███████████████▍                | 440kB 9.5MB/s eta 0:00:01\r\u001b[K     |███████████████▊                | 450kB 9.5MB/s eta 0:00:01\r\u001b[K     |████████████████                | 460kB 9.5MB/s eta 0:00:01\r\u001b[K     |████████████████▍               | 471kB 9.5MB/s eta 0:00:01\r\u001b[K     |████████████████▊               | 481kB 9.5MB/s eta 0:00:01\r\u001b[K     |█████████████████▏              | 491kB 9.5MB/s eta 0:00:01\r\u001b[K     |█████████████████▌              | 501kB 9.5MB/s eta 0:00:01\r\u001b[K     |█████████████████▉              | 512kB 9.5MB/s eta 0:00:01\r\u001b[K     |██████████████████▏             | 522kB 9.5MB/s eta 0:00:01\r\u001b[K     |██████████████████▌             | 532kB 9.5MB/s eta 0:00:01\r\u001b[K     |███████████████████             | 542kB 9.5MB/s eta 0:00:01\r\u001b[K     |███████████████████▎            | 552kB 9.5MB/s eta 0:00:01\r\u001b[K     |███████████████████▋            | 563kB 9.5MB/s eta 0:00:01\r\u001b[K     |████████████████████            | 573kB 9.5MB/s eta 0:00:01\r\u001b[K     |████████████████████▍           | 583kB 9.5MB/s eta 0:00:01\r\u001b[K     |████████████████████▊           | 593kB 9.5MB/s eta 0:00:01\r\u001b[K     |█████████████████████           | 604kB 9.5MB/s eta 0:00:01\r\u001b[K     |█████████████████████▍          | 614kB 9.5MB/s eta 0:00:01\r\u001b[K     |█████████████████████▊          | 624kB 9.5MB/s eta 0:00:01\r\u001b[K     |██████████████████████▏         | 634kB 9.5MB/s eta 0:00:01\r\u001b[K     |██████████████████████▌         | 645kB 9.5MB/s eta 0:00:01\r\u001b[K     |██████████████████████▉         | 655kB 9.5MB/s eta 0:00:01\r\u001b[K     |███████████████████████▏        | 665kB 9.5MB/s eta 0:00:01\r\u001b[K     |███████████████████████▌        | 675kB 9.5MB/s eta 0:00:01\r\u001b[K     |████████████████████████        | 686kB 9.5MB/s eta 0:00:01\r\u001b[K     |████████████████████████▎       | 696kB 9.5MB/s eta 0:00:01\r\u001b[K     |████████████████████████▋       | 706kB 9.5MB/s eta 0:00:01\r\u001b[K     |█████████████████████████       | 716kB 9.5MB/s eta 0:00:01\r\u001b[K     |█████████████████████████▎      | 727kB 9.5MB/s eta 0:00:01\r\u001b[K     |█████████████████████████▊      | 737kB 9.5MB/s eta 0:00:01\r\u001b[K     |██████████████████████████      | 747kB 9.5MB/s eta 0:00:01\r\u001b[K     |██████████████████████████▍     | 757kB 9.5MB/s eta 0:00:01\r\u001b[K     |██████████████████████████▊     | 768kB 9.5MB/s eta 0:00:01\r\u001b[K     |███████████████████████████▏    | 778kB 9.5MB/s eta 0:00:01\r\u001b[K     |███████████████████████████▌    | 788kB 9.5MB/s eta 0:00:01\r\u001b[K     |███████████████████████████▉    | 798kB 9.5MB/s eta 0:00:01\r\u001b[K     |████████████████████████████▏   | 808kB 9.5MB/s eta 0:00:01\r\u001b[K     |████████████████████████████▌   | 819kB 9.5MB/s eta 0:00:01\r\u001b[K     |█████████████████████████████   | 829kB 9.5MB/s eta 0:00:01\r\u001b[K     |█████████████████████████████▎  | 839kB 9.5MB/s eta 0:00:01\r\u001b[K     |█████████████████████████████▋  | 849kB 9.5MB/s eta 0:00:01\r\u001b[K     |██████████████████████████████  | 860kB 9.5MB/s eta 0:00:01\r\u001b[K     |██████████████████████████████▎ | 870kB 9.5MB/s eta 0:00:01\r\u001b[K     |██████████████████████████████▊ | 880kB 9.5MB/s eta 0:00:01\r\u001b[K     |███████████████████████████████ | 890kB 9.5MB/s eta 0:00:01\r\u001b[K     |███████████████████████████████▍| 901kB 9.5MB/s eta 0:00:01\r\u001b[K     |███████████████████████████████▊| 911kB 9.5MB/s eta 0:00:01\r\u001b[K     |████████████████████████████████| 921kB 9.5MB/s \n",
            "\u001b[?25hRequirement already satisfied: shapely in /usr/local/lib/python3.6/dist-packages (from geopandas) (1.6.4.post2)\n",
            "Collecting pyproj\n",
            "\u001b[?25l  Downloading https://files.pythonhosted.org/packages/1d/45/ea3ae47cd95fcb9f8631c290d00377196aa5f409792b49e4a8a20a3588f5/pyproj-2.4.1-cp36-cp36m-manylinux2010_x86_64.whl (10.1MB)\n",
            "\u001b[K     |████████████████████████████████| 10.1MB 51.7MB/s \n",
            "\u001b[?25hCollecting fiona\n",
            "\u001b[?25l  Downloading https://files.pythonhosted.org/packages/a6/8f/abad0244b2872fca20e49b149c6680a89171c3af9735e9dfa7eb33cc187a/Fiona-1.8.11-cp36-cp36m-manylinux1_x86_64.whl (11.8MB)\n",
            "\u001b[K     |████████████████████████████████| 11.8MB 51.8MB/s \n",
            "\u001b[?25hRequirement already satisfied: pandas>=0.23.0 in /usr/local/lib/python3.6/dist-packages (from geopandas) (0.25.3)\n",
            "Requirement already satisfied: attrs>=17 in /usr/local/lib/python3.6/dist-packages (from fiona->geopandas) (19.3.0)\n",
            "Collecting cligj>=0.5\n",
            "  Downloading https://files.pythonhosted.org/packages/e4/be/30a58b4b0733850280d01f8bd132591b4668ed5c7046761098d665ac2174/cligj-0.5.0-py3-none-any.whl\n",
            "Collecting click-plugins>=1.0\n",
            "  Downloading https://files.pythonhosted.org/packages/e9/da/824b92d9942f4e472702488857914bdd50f73021efea15b4cad9aca8ecef/click_plugins-1.1.1-py2.py3-none-any.whl\n",
            "Requirement already satisfied: six>=1.7 in /usr/local/lib/python3.6/dist-packages (from fiona->geopandas) (1.12.0)\n",
            "Requirement already satisfied: click<8,>=4.0 in /usr/local/lib/python3.6/dist-packages (from fiona->geopandas) (7.0)\n",
            "Collecting munch\n",
            "  Downloading https://files.pythonhosted.org/packages/cc/ab/85d8da5c9a45e072301beb37ad7f833cd344e04c817d97e0cc75681d248f/munch-2.5.0-py2.py3-none-any.whl\n",
            "Requirement already satisfied: numpy>=1.13.3 in /usr/local/lib/python3.6/dist-packages (from pandas>=0.23.0->geopandas) (1.17.4)\n",
            "Requirement already satisfied: python-dateutil>=2.6.1 in /usr/local/lib/python3.6/dist-packages (from pandas>=0.23.0->geopandas) (2.6.1)\n",
            "Requirement already satisfied: pytz>=2017.2 in /usr/local/lib/python3.6/dist-packages (from pandas>=0.23.0->geopandas) (2018.9)\n",
            "Installing collected packages: pyproj, cligj, click-plugins, munch, fiona, geopandas\n",
            "Successfully installed click-plugins-1.1.1 cligj-0.5.0 fiona-1.8.11 geopandas-0.6.1 munch-2.5.0 pyproj-2.4.1\n"
          ],
          "name": "stdout"
        },
        {
          "output_type": "stream",
          "text": [
            "Exception ignored in: <_io.FileIO name='/usr/local/lib/python3.6/dist-packages/click_plugins-1.1.1.dist-info/top_level.txt' mode='rb' closefd=True>\n",
            "ResourceWarning: unclosed file <_io.TextIOWrapper name='/usr/local/lib/python3.6/dist-packages/click_plugins-1.1.1.dist-info/top_level.txt' mode='r' encoding='UTF-8'>\n",
            "Exception ignored in: <_io.FileIO name='/usr/local/lib/python3.6/dist-packages/cligj-0.5.0.dist-info/top_level.txt' mode='rb' closefd=True>\n",
            "ResourceWarning: unclosed file <_io.TextIOWrapper name='/usr/local/lib/python3.6/dist-packages/cligj-0.5.0.dist-info/top_level.txt' mode='r' encoding='UTF-8'>\n",
            "Exception ignored in: <_io.FileIO name='/usr/local/lib/python3.6/dist-packages/Fiona-1.8.11.dist-info/top_level.txt' mode='rb' closefd=True>\n",
            "ResourceWarning: unclosed file <_io.TextIOWrapper name='/usr/local/lib/python3.6/dist-packages/Fiona-1.8.11.dist-info/top_level.txt' mode='r' encoding='UTF-8'>\n",
            "Exception ignored in: <_io.FileIO name='/usr/local/lib/python3.6/dist-packages/geopandas-0.6.1.dist-info/top_level.txt' mode='rb' closefd=True>\n",
            "ResourceWarning: unclosed file <_io.TextIOWrapper name='/usr/local/lib/python3.6/dist-packages/geopandas-0.6.1.dist-info/top_level.txt' mode='r' encoding='UTF-8'>\n",
            "Exception ignored in: <_io.FileIO name='/usr/local/lib/python3.6/dist-packages/munch-2.5.0.dist-info/top_level.txt' mode='rb' closefd=True>\n",
            "ResourceWarning: unclosed file <_io.TextIOWrapper name='/usr/local/lib/python3.6/dist-packages/munch-2.5.0.dist-info/top_level.txt' mode='r' encoding='UTF-8'>\n",
            "Exception ignored in: <_io.FileIO name='/usr/local/lib/python3.6/dist-packages/pyproj-2.4.1.dist-info/top_level.txt' mode='rb' closefd=True>\n",
            "ResourceWarning: unclosed file <_io.TextIOWrapper name='/usr/local/lib/python3.6/dist-packages/pyproj-2.4.1.dist-info/top_level.txt' mode='r' encoding='UTF-8'>\n"
          ],
          "name": "stderr"
        }
      ]
    },
    {
      "cell_type": "markdown",
      "metadata": {
        "id": "bFsenpopExeC",
        "colab_type": "text"
      },
      "source": [
        "## Data Exploration Example\n",
        "The first step in any data analysis is to prepare the data.  As we are running this in Google Colab, we need to upload any datasets.  There are several ways to do this but for this example I've used the most intuitive.  \n",
        "\n",
        "After running the cell below, you will see a \"Choose Files\" button that will allow you to select the files you wish to upload.\n"
      ]
    },
    {
      "cell_type": "code",
      "metadata": {
        "id": "wITgvJetPcws",
        "colab_type": "code",
        "outputId": "85a32a33-05f6-4fd9-e6d9-a396ab35773d",
        "colab": {
          "resources": {
            "http://localhost:8080/nbextensions/google.colab/files.js": {
              "data": "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",
              "ok": true,
              "headers": [
                [
                  "content-type",
                  "application/javascript"
                ]
              ],
              "status": 200,
              "status_text": ""
            }
          },
          "base_uri": "https://localhost:8080/",
          "height": 74
        }
      },
      "source": [
        "from google.colab import files\n",
        "\n",
        "uploaded = files.upload()"
      ],
      "execution_count": 0,
      "outputs": [
        {
          "output_type": "display_data",
          "data": {
            "text/html": [
              "\n",
              "     <input type=\"file\" id=\"files-f8b700a9-2cd3-4071-819a-8abe2cb18e74\" name=\"files[]\" multiple disabled />\n",
              "     <output id=\"result-f8b700a9-2cd3-4071-819a-8abe2cb18e74\">\n",
              "      Upload widget is only available when the cell has been executed in the\n",
              "      current browser session. Please rerun this cell to enable.\n",
              "      </output>\n",
              "      <script src=\"/nbextensions/google.colab/files.js\"></script> "
            ],
            "text/plain": [
              "<IPython.core.display.HTML object>"
            ]
          },
          "metadata": {
            "tags": []
          }
        },
        {
          "output_type": "stream",
          "text": [
            "Saving weatherAUS.csv to weatherAUS.csv\n"
          ],
          "name": "stdout"
        }
      ]
    },
    {
      "cell_type": "code",
      "metadata": {
        "id": "b2RYH90_9H_Y",
        "colab_type": "code",
        "colab": {}
      },
      "source": [
        ""
      ],
      "execution_count": 0,
      "outputs": []
    },
    {
      "cell_type": "markdown",
      "metadata": {
        "id": "KeqC4zZP53R7",
        "colab_type": "text"
      },
      "source": [
        "Running the next cell will give you an overview of the files you have just uploaded."
      ]
    },
    {
      "cell_type": "code",
      "metadata": {
        "id": "42WBIjwKd46C",
        "colab_type": "code",
        "outputId": "20042772-628c-4d81-b5c5-25f54949c5c6",
        "colab": {
          "base_uri": "https://localhost:8080/",
          "height": 34
        }
      },
      "source": [
        "for fn in uploaded.keys():\n",
        "  print('User uploaded file \"{name}\" with length {length} bytes'.format(\n",
        "      name=fn, length=len(uploaded[fn])))"
      ],
      "execution_count": 5,
      "outputs": [
        {
          "output_type": "stream",
          "text": [
            "User uploaded file \"weatherAUS.csv\" with length 14167326 bytes\n"
          ],
          "name": "stdout"
        }
      ]
    },
    {
      "cell_type": "markdown",
      "metadata": {
        "id": "PnGYpvHuFWy-",
        "colab_type": "text"
      },
      "source": [
        "## Wrangling your data\n",
        "\n",
        "Two commonly used libraries are NumPy and Pandas that help with any extract, transform and load (ETL) required to get the data data\n",
        "\n",
        "Numpy is a library that basically allows you to create and perform operations on matrices and multidimensional arrays.\n",
        "\n",
        "Pandas is a library that provides many useful functions for data manipulation. We will be using the \"Dataframe\" functionality which will allow us to import data from a CSV file and perform several data wrangling and cleansing functions.\n",
        "\n"
      ]
    },
    {
      "cell_type": "code",
      "metadata": {
        "id": "h8FV3yb-FlLZ",
        "colab_type": "code",
        "colab": {}
      },
      "source": [
        "#These commands allow us to load the libraries in to our current notebook\n",
        "import numpy as np\n",
        "import pandas as pd"
      ],
      "execution_count": 0,
      "outputs": []
    },
    {
      "cell_type": "markdown",
      "metadata": {
        "id": "4QwiIKEbGice",
        "colab_type": "text"
      },
      "source": [
        "## Loading your data"
      ]
    },
    {
      "cell_type": "code",
      "metadata": {
        "id": "Pz0QoS3MQ5_4",
        "colab_type": "code",
        "colab": {}
      },
      "source": [
        ""
      ],
      "execution_count": 0,
      "outputs": []
    },
    {
      "cell_type": "markdown",
      "metadata": {
        "id": "yABVKYm3F1J6",
        "colab_type": "text"
      },
      "source": [
        "## Visualizing your Data\n",
        "\n",
        "\n",
        "Two commonly used libraries are Matplotlib and Seaborn\n",
        "\n",
        "These have a wide range of graph and data visualization types available\n"
      ]
    },
    {
      "cell_type": "code",
      "metadata": {
        "id": "jF7I-itUKmtz",
        "colab_type": "code",
        "colab": {}
      },
      "source": [
        "\n"
      ],
      "execution_count": 0,
      "outputs": []
    },
    {
      "cell_type": "markdown",
      "metadata": {
        "id": "gW7tnpJxGkuc",
        "colab_type": "text"
      },
      "source": [
        ""
      ]
    }
  ]
}