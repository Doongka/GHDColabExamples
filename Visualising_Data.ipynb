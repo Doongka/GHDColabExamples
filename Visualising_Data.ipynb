{
  "nbformat": 4,
  "nbformat_minor": 0,
  "metadata": {
    "colab": {
      "name": "Visualising Data.ipynb",
      "provenance": [],
      "include_colab_link": true
    },
    "kernelspec": {
      "name": "python3",
      "display_name": "Python 3"
    }
  },
  "cells": [
    {
      "cell_type": "markdown",
      "metadata": {
        "id": "view-in-github",
        "colab_type": "text"
      },
      "source": [
        "<a href=\"https://colab.research.google.com/github/Doongka/GHDColabExamples/blob/master/Visualising_Data.ipynb\" target=\"_parent\"><img src=\"https://colab.research.google.com/assets/colab-badge.svg\" alt=\"Open In Colab\"/></a>"
      ]
    },
    {
      "cell_type": "markdown",
      "metadata": {
        "id": "bFsenpopExeC",
        "colab_type": "text"
      },
      "source": [
        "# Data Exploration Example"
      ]
    },
    {
      "cell_type": "code",
      "metadata": {
        "id": "PsnQ4D6q_YH0",
        "colab_type": "code",
        "colab": {}
      },
      "source": [
        "url = 'https://raw.githubusercontent.com/Doongka/GHDColabExamples/master/test.csv'"
      ],
      "execution_count": 0,
      "outputs": []
    },
    {
      "cell_type": "markdown",
      "metadata": {
        "id": "PnGYpvHuFWy-",
        "colab_type": "text"
      },
      "source": [
        "# Wrangling your data\n",
        "\n",
        "Two commonly used libraries are NumPy and Pandas\n",
        "\n",
        "These can be used to extract, transform and load your data"
      ]
    },
    {
      "cell_type": "code",
      "metadata": {
        "id": "h8FV3yb-FlLZ",
        "colab_type": "code",
        "colab": {}
      },
      "source": [
        "#These commands allow us to load the libraries in to our current notebook\n",
        "import numpy as np\n",
        "import pandas as pd\n"
      ],
      "execution_count": 0,
      "outputs": []
    },
    {
      "cell_type": "markdown",
      "metadata": {
        "id": "4QwiIKEbGice",
        "colab_type": "text"
      },
      "source": [
        "# Loading your data"
      ]
    },
    {
      "cell_type": "code",
      "metadata": {
        "id": "03QTsjsMHI0A",
        "colab_type": "code",
        "colab": {}
      },
      "source": [
        "#Load data from csv\n",
        "data = pd.read_csv(url)\n",
        "data"
      ],
      "execution_count": 0,
      "outputs": []
    },
    {
      "cell_type": "markdown",
      "metadata": {
        "id": "yABVKYm3F1J6",
        "colab_type": "text"
      },
      "source": [
        "# Visualizing your Data\n",
        "\n",
        "\n",
        "Two commonly used libraries are Matplotlib and Seaborn\n",
        "\n",
        "These have a wide range of graph and data visualization types available\n"
      ]
    },
    {
      "cell_type": "markdown",
      "metadata": {
        "id": "gW7tnpJxGkuc",
        "colab_type": "text"
      },
      "source": [
        ""
      ]
    }
  ]
}