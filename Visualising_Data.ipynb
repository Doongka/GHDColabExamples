{
  "nbformat": 4,
  "nbformat_minor": 0,
  "metadata": {
    "colab": {
      "name": "Visualising Data.ipynb",
      "provenance": [],
      "include_colab_link": true
    },
    "kernelspec": {
      "name": "python3",
      "display_name": "Python 3"
    }
  },
  "cells": [
    {
      "cell_type": "markdown",
      "metadata": {
        "id": "view-in-github",
        "colab_type": "text"
      },
      "source": [
        "<a href=\"https://colab.research.google.com/github/Doongka/GHDColabExamples/blob/master/Visualising_Data.ipynb\" target=\"_parent\"><img src=\"https://colab.research.google.com/assets/colab-badge.svg\" alt=\"Open In Colab\"/></a>"
      ]
    },
    {
      "cell_type": "markdown",
      "metadata": {
        "id": "bFsenpopExeC",
        "colab_type": "text"
      },
      "source": [
        "# Data Exploration Example"
      ]
    },
    {
      "cell_type": "code",
      "metadata": {
        "id": "PsnQ4D6q_YH0",
        "colab_type": "code",
        "outputId": "188444e1-402a-4e5a-b083-a34352c831a3",
        "colab": {
          "base_uri": "https://localhost:8080/",
          "height": 122
        }
      },
      "source": [
        "from google.colab import drive\n",
        "drive.mount('/content/gdrive')"
      ],
      "execution_count": 0,
      "outputs": [
        {
          "output_type": "stream",
          "text": [
            "Go to this URL in a browser: https://accounts.google.com/o/oauth2/auth?client_id=947318989803-6bn6qk8qdgf4n4g3pfee6491hc0brc4i.apps.googleusercontent.com&redirect_uri=urn%3aietf%3awg%3aoauth%3a2.0%3aoob&response_type=code&scope=email%20https%3a%2f%2fwww.googleapis.com%2fauth%2fdocs.test%20https%3a%2f%2fwww.googleapis.com%2fauth%2fdrive%20https%3a%2f%2fwww.googleapis.com%2fauth%2fdrive.photos.readonly%20https%3a%2f%2fwww.googleapis.com%2fauth%2fpeopleapi.readonly\n",
            "\n",
            "Enter your authorization code:\n",
            "··········\n",
            "Mounted at /content/gdrive\n"
          ],
          "name": "stdout"
        }
      ]
    },
    {
      "cell_type": "markdown",
      "metadata": {
        "id": "PnGYpvHuFWy-",
        "colab_type": "text"
      },
      "source": [
        "# Wrangling your data\n",
        "\n",
        "Two commonly used libraries are NumPy and Pandas\n",
        "\n",
        "These can be used to extract, transform and load your data"
      ]
    },
    {
      "cell_type": "code",
      "metadata": {
        "id": "h8FV3yb-FlLZ",
        "colab_type": "code",
        "colab": {}
      },
      "source": [
        "#These commands allow us to load the libraries in to our current notebook\n",
        "import numpy as np\n",
        "import pandas as pd\n"
      ],
      "execution_count": 0,
      "outputs": []
    },
    {
      "cell_type": "markdown",
      "metadata": {
        "id": "A8f3Ebl6GLvc",
        "colab_type": "text"
      },
      "source": [
        "Pandas provides us with an excellent object that we can use for data manipulation.  This is called a dataframe"
      ]
    },
    {
      "cell_type": "code",
      "metadata": {
        "id": "6qjasE00GW_C",
        "colab_type": "code",
        "colab": {}
      },
      "source": [
        "help(pd.DataFrame)"
      ],
      "execution_count": 0,
      "outputs": []
    },
    {
      "cell_type": "markdown",
      "metadata": {
        "id": "4QwiIKEbGice",
        "colab_type": "text"
      },
      "source": [
        "# Loading your data"
      ]
    },
    {
      "cell_type": "code",
      "metadata": {
        "id": "03QTsjsMHI0A",
        "colab_type": "code",
        "colab": {}
      },
      "source": [
        "#Load data from csv\n"
      ],
      "execution_count": 0,
      "outputs": []
    },
    {
      "cell_type": "markdown",
      "metadata": {
        "id": "yABVKYm3F1J6",
        "colab_type": "text"
      },
      "source": [
        "# Visualizing your Data\n",
        "\n",
        "\n",
        "Two commonly used libraries are Matplotlib and Seaborn\n",
        "\n",
        "These have a wide range of graph and data visualization types available\n"
      ]
    },
    {
      "cell_type": "markdown",
      "metadata": {
        "id": "gW7tnpJxGkuc",
        "colab_type": "text"
      },
      "source": [
        ""
      ]
    }
  ]
}