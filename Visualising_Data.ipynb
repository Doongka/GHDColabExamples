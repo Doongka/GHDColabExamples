{
  "nbformat": 4,
  "nbformat_minor": 0,
  "metadata": {
    "colab": {
      "name": "Visualising Data.ipynb",
      "provenance": [],
      "toc_visible": true,
      "include_colab_link": true
    },
    "kernelspec": {
      "name": "python3",
      "display_name": "Python 3"
    }
  },
  "cells": [
    {
      "cell_type": "markdown",
      "metadata": {
        "id": "view-in-github",
        "colab_type": "text"
      },
      "source": [
        "<a href=\"https://colab.research.google.com/github/Doongka/GHDColabExamples/blob/master/Visualising_Data.ipynb\" target=\"_parent\"><img src=\"https://colab.research.google.com/assets/colab-badge.svg\" alt=\"Open In Colab\"/></a>"
      ]
    },
    {
      "cell_type": "markdown",
      "metadata": {
        "id": "8chuCFBZsZKx",
        "colab_type": "text"
      },
      "source": [
        "## Why use Python instead of Excel for data analysis?\n",
        "The water sector is a data rich environment and the amount of data being collected is steadily increasing.  This provides us with new opportunities for exploiting this data in our day to day work.\n",
        "\n",
        "Even though Excel is a powerful tool, it does have some limitations.  Most notably is the poor performance with a spreadsheet full of formula and the row/column limitation. When our data is too big for a spreadsheet or we require lots of calculations we can create a coded solution using a language like Python.\n",
        "\n",
        " So what makes Python so attractive for data analysis?\n",
        "\n",
        "1.   Readable and easily maintainable\n",
        "2.   Very easy to learn and use.\n",
        "3.   Open source (FREE!) and feature rich with lots of libraries available\n",
        "4.   Cross platform support. i.e. code written on Mac can run on Windows (mostly)\n",
        "5.   Most importantly, it's better suited for big data applications (Not the best but the easiest)\n",
        "\n"
      ]
    },
    {
      "cell_type": "markdown",
      "metadata": {
        "id": "emFym08P7uPv",
        "colab_type": "text"
      },
      "source": [
        "# Data Visualization Example\n",
        "The goal of this notebook is to provide a quick overview of some useful Python tools used for cleaning, analysing and visualizing data.\n",
        "\n",
        "The notebook has  been created using Google Colab, a free cloud-based notebook environment that allows you to write and execute Python code without needing to set up your own local Python environment.\n",
        "\n",
        "Anyone can use this notebook and I'll send a link out on an email.  It's sitting in my online code repository located here:-\n",
        "\n",
        "https://colab.research.google.com/github/Doongka/GHDColabExamples/blob/master/Visualising_Data.ipynb\n",
        "\n",
        "This notebook will allow you to run the code in segments as you go.  When you get to a code block, you can execute (run) the code by pressing CTRL-ENTER.  \n",
        "\n",
        "Try it on the code block below:-"
      ]
    },
    {
      "cell_type": "code",
      "metadata": {
        "id": "fbb119Xo9g2t",
        "colab_type": "code",
        "colab": {
          "base_uri": "https://localhost:8080/",
          "height": 35
        },
        "outputId": "9e92ee80-730b-4030-b484-32436e43b608"
      },
      "source": [
        "# assign \"Hello World!\" to a new variable \"greeting\"\n",
        "greeting = \"Hello World!\"\n",
        "\n",
        "# run the \"print\" function with \"greeting\" as an argument. i.e. Print to screen whatever is stored in \"greeting\"\n",
        "print(greeting)"
      ],
      "execution_count": 16,
      "outputs": [
        {
          "output_type": "stream",
          "text": [
            "Hello World!\n"
          ],
          "name": "stdout"
        }
      ]
    },
    {
      "cell_type": "markdown",
      "metadata": {
        "id": "WgJeubrs_kb4",
        "colab_type": "text"
      },
      "source": [
        "If successful you will see the words \"Hello World!\" output below the code.\n",
        "\n",
        "Something important to note is that a # symbol at the start of a line causes Python to ignore that particular line. This is useful to provide a description of your code like I've done above or to stop lines of code from running with debugging. A quick way to \"comment\" and \"uncomment\" your code is to press CTRL-/\n",
        "\n"
      ]
    },
    {
      "cell_type": "markdown",
      "metadata": {
        "id": "EgPfO6FWnMEe",
        "colab_type": "text"
      },
      "source": [
        "## Prepare the workspace\n",
        "Google Colab has many useful Python packages preinstalled such so there shouldn't be any need to install them yourself.  Packages are basically collections of useful functions.  If case you do need something that is not installed, you can run a \"pip\" installation as per below.  \n",
        "\n",
        "You can see that I've \"commented\" the bit of code that installs the package \"\".  Uncomment this line and run the code block.\n"
      ]
    },
    {
      "cell_type": "code",
      "metadata": {
        "id": "4tOQpc6XK1xp",
        "colab_type": "code",
        "colab": {}
      },
      "source": [
        "# We place a ! in front of the command to indicate that we want this to run in a console.\n",
        "# !pip install altair"
      ],
      "execution_count": 0,
      "outputs": []
    },
    {
      "cell_type": "markdown",
      "metadata": {
        "id": "bFsenpopExeC",
        "colab_type": "text"
      },
      "source": [
        "## Uploading your data to Colab\n",
        "The first step in any data analysis is to prepare the data.  As we are running this in Google Colab, we need to upload any datasets.  There are several ways to do this but for this example I've used the most intuitive. \n",
        "\n",
        "I've downloaded some temperature data from BOM to try out. You can download the test data here:-\n",
        "\n",
        "https://raw.githubusercontent.com/Doongka/GHDColabExamples/master/dataset/brisbanetemp.csv\n",
        "\n",
        "After running the cell below, you will see a \"Choose Files\" button that will allow you to select the files you wish to upload.  This example has been designed to handle a single CSV file so point to where you saved the \"brisbanetemp.csv\" file on your local machine\n",
        "\n",
        "\n"
      ]
    },
    {
      "cell_type": "code",
      "metadata": {
        "id": "wITgvJetPcws",
        "colab_type": "code",
        "colab": {
          "resources": {
            "http://localhost:8080/nbextensions/google.colab/files.js": {
              "data": "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",
              "ok": true,
              "headers": [
                [
                  "content-type",
                  "application/javascript"
                ]
              ],
              "status": 200,
              "status_text": "OK"
            }
          },
          "base_uri": "https://localhost:8080/",
          "height": 75
        },
        "outputId": "ff362db0-1352-489b-863e-3b61aba24762"
      },
      "source": [
        "from google.colab import files\n",
        "\n",
        "uploaded = files.upload()"
      ],
      "execution_count": 3,
      "outputs": [
        {
          "output_type": "display_data",
          "data": {
            "text/html": [
              "\n",
              "     <input type=\"file\" id=\"files-02ecfd03-d39c-4194-bf27-ad4bfafde226\" name=\"files[]\" multiple disabled />\n",
              "     <output id=\"result-02ecfd03-d39c-4194-bf27-ad4bfafde226\">\n",
              "      Upload widget is only available when the cell has been executed in the\n",
              "      current browser session. Please rerun this cell to enable.\n",
              "      </output>\n",
              "      <script src=\"/nbextensions/google.colab/files.js\"></script> "
            ],
            "text/plain": [
              "<IPython.core.display.HTML object>"
            ]
          },
          "metadata": {
            "tags": []
          }
        },
        {
          "output_type": "stream",
          "text": [
            "Saving brisbanetemp.csv to brisbanetemp.csv\n"
          ],
          "name": "stdout"
        }
      ]
    },
    {
      "cell_type": "markdown",
      "metadata": {
        "id": "KeqC4zZP53R7",
        "colab_type": "text"
      },
      "source": [
        "Running the next cell will give you an overview of the files you have just uploaded.  This is a handy test to make sure it uploaded correctly."
      ]
    },
    {
      "cell_type": "code",
      "metadata": {
        "id": "42WBIjwKd46C",
        "colab_type": "code",
        "colab": {
          "base_uri": "https://localhost:8080/",
          "height": 35
        },
        "outputId": "87795461-8b72-4e61-834f-8573d2574972"
      },
      "source": [
        "for fn in uploaded.keys():\n",
        "  print('User uploaded file \"{name}\" with length {length} bytes'.format(\n",
        "      name=fn, length=len(uploaded[fn])))"
      ],
      "execution_count": 4,
      "outputs": [
        {
          "output_type": "stream",
          "text": [
            "User uploaded file \"brisbanetemp.csv\" with length 590942 bytes\n"
          ],
          "name": "stdout"
        }
      ]
    },
    {
      "cell_type": "markdown",
      "metadata": {
        "id": "PnGYpvHuFWy-",
        "colab_type": "text"
      },
      "source": [
        "## Wrangling your data\n",
        "\n",
        "Python has many pre-built packages that help with any extract, transform and load (ETL) operations required to get the data ready.\n",
        "\n",
        "Pandas is a popular library that provides many useful methods for data manipulation. We will be using the \"Dataframe\" functionality which will allow us to import data from a CSV file and perform several data wrangling and cleansing tasks.\n",
        "\n"
      ]
    },
    {
      "cell_type": "code",
      "metadata": {
        "id": "h8FV3yb-FlLZ",
        "colab_type": "code",
        "colab": {}
      },
      "source": [
        "#These commands allow us to load the libraries in to our current notebook\n",
        "import pandas as pd"
      ],
      "execution_count": 0,
      "outputs": []
    },
    {
      "cell_type": "markdown",
      "metadata": {
        "id": "4QwiIKEbGice",
        "colab_type": "text"
      },
      "source": [
        "## Loading your data\n",
        "Before we can do anything with our data, we first need to load it.  Pandas has some great methods to read files and load them into a useful format. \n",
        "\n",
        "In the code block below, we are loading a CSV file and tranforming it in the form of a Dataframe object.  A Dataframe is effectively Pandas's answer to storing data in a tabular format."
      ]
    },
    {
      "cell_type": "code",
      "metadata": {
        "id": "Pz0QoS3MQ5_4",
        "colab_type": "code",
        "colab": {
          "base_uri": "https://localhost:8080/",
          "height": 198
        },
        "outputId": "4bd0820d-76d2-46ee-ce79-c5020358db37"
      },
      "source": [
        "# read the csv and load the contents into memory as a dataframe\n",
        "data = pd.read_csv('brisbanetemp.csv')\n",
        "\n",
        "# the head() method allows us to view the first 5 entries in the dataframe\n",
        "data.head()"
      ],
      "execution_count": 6,
      "outputs": [
        {
          "output_type": "execute_result",
          "data": {
            "text/html": [
              "<div>\n",
              "<style scoped>\n",
              "    .dataframe tbody tr th:only-of-type {\n",
              "        vertical-align: middle;\n",
              "    }\n",
              "\n",
              "    .dataframe tbody tr th {\n",
              "        vertical-align: top;\n",
              "    }\n",
              "\n",
              "    .dataframe thead th {\n",
              "        text-align: right;\n",
              "    }\n",
              "</style>\n",
              "<table border=\"1\" class=\"dataframe\">\n",
              "  <thead>\n",
              "    <tr style=\"text-align: right;\">\n",
              "      <th></th>\n",
              "      <th>date</th>\n",
              "      <th>maximum temperature (degC)</th>\n",
              "      <th>minimum temperature (degC)</th>\n",
              "      <th>site number</th>\n",
              "      <th>site name</th>\n",
              "    </tr>\n",
              "  </thead>\n",
              "  <tbody>\n",
              "    <tr>\n",
              "      <th>0</th>\n",
              "      <td>NaN</td>\n",
              "      <td>NaN</td>\n",
              "      <td>NaN</td>\n",
              "      <td>40842.0</td>\n",
              "      <td>BRISBANE AERO</td>\n",
              "    </tr>\n",
              "    <tr>\n",
              "      <th>1</th>\n",
              "      <td>4/06/1949</td>\n",
              "      <td>14.0</td>\n",
              "      <td>2.4</td>\n",
              "      <td>NaN</td>\n",
              "      <td>NaN</td>\n",
              "    </tr>\n",
              "    <tr>\n",
              "      <th>2</th>\n",
              "      <td>5/06/1949</td>\n",
              "      <td>18.2</td>\n",
              "      <td>10.0</td>\n",
              "      <td>NaN</td>\n",
              "      <td>NaN</td>\n",
              "    </tr>\n",
              "    <tr>\n",
              "      <th>3</th>\n",
              "      <td>6/06/1949</td>\n",
              "      <td>21.0</td>\n",
              "      <td>5.6</td>\n",
              "      <td>NaN</td>\n",
              "      <td>NaN</td>\n",
              "    </tr>\n",
              "    <tr>\n",
              "      <th>4</th>\n",
              "      <td>7/06/1949</td>\n",
              "      <td>20.5</td>\n",
              "      <td>7.1</td>\n",
              "      <td>NaN</td>\n",
              "      <td>NaN</td>\n",
              "    </tr>\n",
              "  </tbody>\n",
              "</table>\n",
              "</div>"
            ],
            "text/plain": [
              "        date  maximum temperature (degC)  ...  site number      site name\n",
              "0        NaN                         NaN  ...      40842.0  BRISBANE AERO\n",
              "1  4/06/1949                        14.0  ...          NaN            NaN\n",
              "2  5/06/1949                        18.2  ...          NaN            NaN\n",
              "3  6/06/1949                        21.0  ...          NaN            NaN\n",
              "4  7/06/1949                        20.5  ...          NaN            NaN\n",
              "\n",
              "[5 rows x 5 columns]"
            ]
          },
          "metadata": {
            "tags": []
          },
          "execution_count": 6
        }
      ]
    },
    {
      "cell_type": "markdown",
      "metadata": {
        "id": "26ZGjoeGtPg7",
        "colab_type": "text"
      },
      "source": [
        "# Cleaning up your data\n",
        "You can see from the table above that row 0 has data that is unable to be read.  \"NaN\" means \"Not a Number\" and in this case was caused by empty cells in the first row of the data.  Let's remove this row entry using the following command. "
      ]
    },
    {
      "cell_type": "code",
      "metadata": {
        "id": "uwIsdDIYtOTM",
        "colab_type": "code",
        "colab": {
          "base_uri": "https://localhost:8080/",
          "height": 198
        },
        "outputId": "87376b01-6de7-4194-d8ab-01ccfa0ec605"
      },
      "source": [
        "# Drop the first row from the dataframe and assign to a new Dataframe called \"cleansed_data\"\n",
        "cleansed_data = data.drop(data.index[0])\n",
        "\n",
        "# Let's have a look to see if it worked\n",
        "cleansed_data.head()"
      ],
      "execution_count": 7,
      "outputs": [
        {
          "output_type": "execute_result",
          "data": {
            "text/html": [
              "<div>\n",
              "<style scoped>\n",
              "    .dataframe tbody tr th:only-of-type {\n",
              "        vertical-align: middle;\n",
              "    }\n",
              "\n",
              "    .dataframe tbody tr th {\n",
              "        vertical-align: top;\n",
              "    }\n",
              "\n",
              "    .dataframe thead th {\n",
              "        text-align: right;\n",
              "    }\n",
              "</style>\n",
              "<table border=\"1\" class=\"dataframe\">\n",
              "  <thead>\n",
              "    <tr style=\"text-align: right;\">\n",
              "      <th></th>\n",
              "      <th>date</th>\n",
              "      <th>maximum temperature (degC)</th>\n",
              "      <th>minimum temperature (degC)</th>\n",
              "      <th>site number</th>\n",
              "      <th>site name</th>\n",
              "    </tr>\n",
              "  </thead>\n",
              "  <tbody>\n",
              "    <tr>\n",
              "      <th>1</th>\n",
              "      <td>4/06/1949</td>\n",
              "      <td>14.0</td>\n",
              "      <td>2.4</td>\n",
              "      <td>NaN</td>\n",
              "      <td>NaN</td>\n",
              "    </tr>\n",
              "    <tr>\n",
              "      <th>2</th>\n",
              "      <td>5/06/1949</td>\n",
              "      <td>18.2</td>\n",
              "      <td>10.0</td>\n",
              "      <td>NaN</td>\n",
              "      <td>NaN</td>\n",
              "    </tr>\n",
              "    <tr>\n",
              "      <th>3</th>\n",
              "      <td>6/06/1949</td>\n",
              "      <td>21.0</td>\n",
              "      <td>5.6</td>\n",
              "      <td>NaN</td>\n",
              "      <td>NaN</td>\n",
              "    </tr>\n",
              "    <tr>\n",
              "      <th>4</th>\n",
              "      <td>7/06/1949</td>\n",
              "      <td>20.5</td>\n",
              "      <td>7.1</td>\n",
              "      <td>NaN</td>\n",
              "      <td>NaN</td>\n",
              "    </tr>\n",
              "    <tr>\n",
              "      <th>5</th>\n",
              "      <td>8/06/1949</td>\n",
              "      <td>20.5</td>\n",
              "      <td>6.1</td>\n",
              "      <td>NaN</td>\n",
              "      <td>NaN</td>\n",
              "    </tr>\n",
              "  </tbody>\n",
              "</table>\n",
              "</div>"
            ],
            "text/plain": [
              "        date  maximum temperature (degC)  ...  site number  site name\n",
              "1  4/06/1949                        14.0  ...          NaN        NaN\n",
              "2  5/06/1949                        18.2  ...          NaN        NaN\n",
              "3  6/06/1949                        21.0  ...          NaN        NaN\n",
              "4  7/06/1949                        20.5  ...          NaN        NaN\n",
              "5  8/06/1949                        20.5  ...          NaN        NaN\n",
              "\n",
              "[5 rows x 5 columns]"
            ]
          },
          "metadata": {
            "tags": []
          },
          "execution_count": 7
        }
      ]
    },
    {
      "cell_type": "markdown",
      "metadata": {
        "id": "p9AaPHwy_Zw9",
        "colab_type": "text"
      },
      "source": [
        "We don't need the columns \"Site Number\" or \"Site Name\" so we'll drop these too."
      ]
    },
    {
      "cell_type": "code",
      "metadata": {
        "id": "tfz8u9QGuQxa",
        "colab_type": "code",
        "colab": {
          "base_uri": "https://localhost:8080/",
          "height": 198
        },
        "outputId": "98d55826-7644-47e3-b9db-bbf03d5daf90"
      },
      "source": [
        "# drop the columns 'site number' and 'site name'\n",
        "cleansed_data = cleansed_data.drop(['site number', 'site name'], axis=1)\n",
        "\n",
        "# check to see what we're left with\n",
        "cleansed_data.head()"
      ],
      "execution_count": 8,
      "outputs": [
        {
          "output_type": "execute_result",
          "data": {
            "text/html": [
              "<div>\n",
              "<style scoped>\n",
              "    .dataframe tbody tr th:only-of-type {\n",
              "        vertical-align: middle;\n",
              "    }\n",
              "\n",
              "    .dataframe tbody tr th {\n",
              "        vertical-align: top;\n",
              "    }\n",
              "\n",
              "    .dataframe thead th {\n",
              "        text-align: right;\n",
              "    }\n",
              "</style>\n",
              "<table border=\"1\" class=\"dataframe\">\n",
              "  <thead>\n",
              "    <tr style=\"text-align: right;\">\n",
              "      <th></th>\n",
              "      <th>date</th>\n",
              "      <th>maximum temperature (degC)</th>\n",
              "      <th>minimum temperature (degC)</th>\n",
              "    </tr>\n",
              "  </thead>\n",
              "  <tbody>\n",
              "    <tr>\n",
              "      <th>1</th>\n",
              "      <td>4/06/1949</td>\n",
              "      <td>14.0</td>\n",
              "      <td>2.4</td>\n",
              "    </tr>\n",
              "    <tr>\n",
              "      <th>2</th>\n",
              "      <td>5/06/1949</td>\n",
              "      <td>18.2</td>\n",
              "      <td>10.0</td>\n",
              "    </tr>\n",
              "    <tr>\n",
              "      <th>3</th>\n",
              "      <td>6/06/1949</td>\n",
              "      <td>21.0</td>\n",
              "      <td>5.6</td>\n",
              "    </tr>\n",
              "    <tr>\n",
              "      <th>4</th>\n",
              "      <td>7/06/1949</td>\n",
              "      <td>20.5</td>\n",
              "      <td>7.1</td>\n",
              "    </tr>\n",
              "    <tr>\n",
              "      <th>5</th>\n",
              "      <td>8/06/1949</td>\n",
              "      <td>20.5</td>\n",
              "      <td>6.1</td>\n",
              "    </tr>\n",
              "  </tbody>\n",
              "</table>\n",
              "</div>"
            ],
            "text/plain": [
              "        date  maximum temperature (degC)  minimum temperature (degC)\n",
              "1  4/06/1949                        14.0                         2.4\n",
              "2  5/06/1949                        18.2                        10.0\n",
              "3  6/06/1949                        21.0                         5.6\n",
              "4  7/06/1949                        20.5                         7.1\n",
              "5  8/06/1949                        20.5                         6.1"
            ]
          },
          "metadata": {
            "tags": []
          },
          "execution_count": 8
        }
      ]
    },
    {
      "cell_type": "markdown",
      "metadata": {
        "id": "fUQy3Ck3_tPD",
        "colab_type": "text"
      },
      "source": [
        "Looking good but we should check the rest of the data.  Running the \"info\" method gives us information on the type of data stored in each column and also the number of non-null (not empty or NaN) entries. "
      ]
    },
    {
      "cell_type": "code",
      "metadata": {
        "id": "DCAqvjoAu1jz",
        "colab_type": "code",
        "colab": {
          "base_uri": "https://localhost:8080/",
          "height": 163
        },
        "outputId": "d41ce4b5-453e-481a-ef90-ff84232f3eb2"
      },
      "source": [
        "cleansed_data.info()"
      ],
      "execution_count": 9,
      "outputs": [
        {
          "output_type": "stream",
          "text": [
            "<class 'pandas.core.frame.DataFrame'>\n",
            "Int64Index: 25564 entries, 1 to 25564\n",
            "Data columns (total 3 columns):\n",
            "date                          25564 non-null object\n",
            "maximum temperature (degC)    25537 non-null float64\n",
            "minimum temperature (degC)    25525 non-null float64\n",
            "dtypes: float64(2), object(1)\n",
            "memory usage: 798.9+ KB\n"
          ],
          "name": "stdout"
        }
      ]
    },
    {
      "cell_type": "markdown",
      "metadata": {
        "id": "FN4GnPLn_9qL",
        "colab_type": "text"
      },
      "source": [
        "We can see that the number of non-null entries for each column is not equal.  This means there are null entries sitting in our table.  We can search for them by doing the following"
      ]
    },
    {
      "cell_type": "code",
      "metadata": {
        "id": "O2tlPffdvzNS",
        "colab_type": "code",
        "colab": {
          "base_uri": "https://localhost:8080/",
          "height": 35
        },
        "outputId": "ded213d3-9024-40aa-828e-9f83e7a67ff4"
      },
      "source": [
        "# Find the null values in the first column\n",
        "missing_data = cleansed_data['maximum temperature (degC)'].isna()\n",
        "\n",
        "# find the null values in the second column.  We are using a logical OR (|) to get a combined list of null entries\n",
        "missing_data = missing_data | cleansed_data['minimum temperature (degC)'].isna()\n",
        "\n",
        "# Count the number of rows that have null entries\n",
        "missing_data.sum()"
      ],
      "execution_count": 10,
      "outputs": [
        {
          "output_type": "execute_result",
          "data": {
            "text/plain": [
              "63"
            ]
          },
          "metadata": {
            "tags": []
          },
          "execution_count": 10
        }
      ]
    },
    {
      "cell_type": "markdown",
      "metadata": {
        "id": "r_AaKvLDANiU",
        "colab_type": "text"
      },
      "source": [
        "We have 63 rows that contain at least one null value.  Let's take a look:-"
      ]
    },
    {
      "cell_type": "code",
      "metadata": {
        "id": "-9VBOp-1w0E6",
        "colab_type": "code",
        "colab": {
          "base_uri": "https://localhost:8080/",
          "height": 407
        },
        "outputId": "db10b6b1-bcb6-4422-9b45-b4a2b5866ae0"
      },
      "source": [
        "# Show only the rows that contain the null values.  Note the format.  The input number represents the rows we want, the second is the columns we want.  A colon (:)\n",
        "# means we want to show all columns\n",
        "cleansed_data.loc[missing_data,:]"
      ],
      "execution_count": 11,
      "outputs": [
        {
          "output_type": "execute_result",
          "data": {
            "text/html": [
              "<div>\n",
              "<style scoped>\n",
              "    .dataframe tbody tr th:only-of-type {\n",
              "        vertical-align: middle;\n",
              "    }\n",
              "\n",
              "    .dataframe tbody tr th {\n",
              "        vertical-align: top;\n",
              "    }\n",
              "\n",
              "    .dataframe thead th {\n",
              "        text-align: right;\n",
              "    }\n",
              "</style>\n",
              "<table border=\"1\" class=\"dataframe\">\n",
              "  <thead>\n",
              "    <tr style=\"text-align: right;\">\n",
              "      <th></th>\n",
              "      <th>date</th>\n",
              "      <th>maximum temperature (degC)</th>\n",
              "      <th>minimum temperature (degC)</th>\n",
              "    </tr>\n",
              "  </thead>\n",
              "  <tbody>\n",
              "    <tr>\n",
              "      <th>623</th>\n",
              "      <td>16/02/1951</td>\n",
              "      <td>NaN</td>\n",
              "      <td>17.9</td>\n",
              "    </tr>\n",
              "    <tr>\n",
              "      <th>624</th>\n",
              "      <td>17/02/1951</td>\n",
              "      <td>NaN</td>\n",
              "      <td>17.6</td>\n",
              "    </tr>\n",
              "    <tr>\n",
              "      <th>625</th>\n",
              "      <td>18/02/1951</td>\n",
              "      <td>NaN</td>\n",
              "      <td>16.4</td>\n",
              "    </tr>\n",
              "    <tr>\n",
              "      <th>626</th>\n",
              "      <td>19/02/1951</td>\n",
              "      <td>NaN</td>\n",
              "      <td>20.7</td>\n",
              "    </tr>\n",
              "    <tr>\n",
              "      <th>627</th>\n",
              "      <td>20/02/1951</td>\n",
              "      <td>NaN</td>\n",
              "      <td>21.6</td>\n",
              "    </tr>\n",
              "    <tr>\n",
              "      <th>...</th>\n",
              "      <td>...</td>\n",
              "      <td>...</td>\n",
              "      <td>...</td>\n",
              "    </tr>\n",
              "    <tr>\n",
              "      <th>10288</th>\n",
              "      <td>3/08/1977</td>\n",
              "      <td>21.6</td>\n",
              "      <td>NaN</td>\n",
              "    </tr>\n",
              "    <tr>\n",
              "      <th>10822</th>\n",
              "      <td>19/01/1979</td>\n",
              "      <td>NaN</td>\n",
              "      <td>22.4</td>\n",
              "    </tr>\n",
              "    <tr>\n",
              "      <th>11223</th>\n",
              "      <td>24/02/1980</td>\n",
              "      <td>29.4</td>\n",
              "      <td>NaN</td>\n",
              "    </tr>\n",
              "    <tr>\n",
              "      <th>14000</th>\n",
              "      <td>2/10/1987</td>\n",
              "      <td>23.2</td>\n",
              "      <td>NaN</td>\n",
              "    </tr>\n",
              "    <tr>\n",
              "      <th>23070</th>\n",
              "      <td>1/08/2012</td>\n",
              "      <td>NaN</td>\n",
              "      <td>6.4</td>\n",
              "    </tr>\n",
              "  </tbody>\n",
              "</table>\n",
              "<p>63 rows × 3 columns</p>\n",
              "</div>"
            ],
            "text/plain": [
              "             date  maximum temperature (degC)  minimum temperature (degC)\n",
              "623    16/02/1951                         NaN                        17.9\n",
              "624    17/02/1951                         NaN                        17.6\n",
              "625    18/02/1951                         NaN                        16.4\n",
              "626    19/02/1951                         NaN                        20.7\n",
              "627    20/02/1951                         NaN                        21.6\n",
              "...           ...                         ...                         ...\n",
              "10288   3/08/1977                        21.6                         NaN\n",
              "10822  19/01/1979                         NaN                        22.4\n",
              "11223  24/02/1980                        29.4                         NaN\n",
              "14000   2/10/1987                        23.2                         NaN\n",
              "23070   1/08/2012                         NaN                         6.4\n",
              "\n",
              "[63 rows x 3 columns]"
            ]
          },
          "metadata": {
            "tags": []
          },
          "execution_count": 11
        }
      ]
    },
    {
      "cell_type": "markdown",
      "metadata": {
        "id": "2X9oz0VTBK5G",
        "colab_type": "text"
      },
      "source": [
        "We have several options at out disposal here to handle the null entries, we can:\n",
        "\n",
        "  \n",
        "\n",
        "*   delete the rows but that's generally not a good idea for time series data \n",
        "*   back or forward filling the entry using the values around it\n",
        "*   interpolate between values\n",
        "\n",
        "Let's interpolate.\n",
        "\n"
      ]
    },
    {
      "cell_type": "code",
      "metadata": {
        "id": "byLUfjffxqHg",
        "colab_type": "code",
        "colab": {
          "base_uri": "https://localhost:8080/",
          "height": 163
        },
        "outputId": "be5e0881-1065-4a30-bd58-1bcb4fa4234a"
      },
      "source": [
        "# We can remove all of the rows that have NaNs.  Probably not a good idea for a time series plot but necessary if the data can't be imputed\n",
        "# final_data = cleansed_data.dropna(how='any')\n",
        "\n",
        "# We can back fill the data based on the data either side\n",
        "# final_data = cleansed_data.fillna(method='bfill')\n",
        "# Or forward fill\n",
        "# final_data = cleansed_data.fillna(method='ffill')\n",
        "\n",
        "# We can interpolate \n",
        "final_data = cleansed_data.interpolate(method='linear')\n",
        "final_data.info()"
      ],
      "execution_count": 12,
      "outputs": [
        {
          "output_type": "stream",
          "text": [
            "<class 'pandas.core.frame.DataFrame'>\n",
            "Int64Index: 25564 entries, 1 to 25564\n",
            "Data columns (total 3 columns):\n",
            "date                          25564 non-null object\n",
            "maximum temperature (degC)    25564 non-null float64\n",
            "minimum temperature (degC)    25564 non-null float64\n",
            "dtypes: float64(2), object(1)\n",
            "memory usage: 798.9+ KB\n"
          ],
          "name": "stdout"
        }
      ]
    },
    {
      "cell_type": "markdown",
      "metadata": {
        "id": "mrb_IjhGBw8U",
        "colab_type": "text"
      },
      "source": [
        "We can see that we now have the equal numbers of entries for each column.  The last thing we need to do is to make sure the date is in a usable format for the graph.  We can do this by using the \"to_datetime\" method in Pandas"
      ]
    },
    {
      "cell_type": "code",
      "metadata": {
        "id": "AHrUT96QyrQ7",
        "colab_type": "code",
        "colab": {
          "base_uri": "https://localhost:8080/",
          "height": 198
        },
        "outputId": "01e321bd-b651-4296-ce4c-a8187bd5729f"
      },
      "source": [
        "# Fix the data column so it is in a usable format\n",
        "final_data['date'] = pd.to_datetime(final_data['date'],format=\"%d/%m/%Y\")\n",
        "\n",
        "# Rename the columns so they're easier to read\n",
        "final_data = final_data.rename(columns={\"maximum temperature (degC)\": \"max_temp\", \"minimum temperature (degC)\": \"min_temp\"})\n",
        "\n",
        "# take a final look at the data\n",
        "final_data.tail()"
      ],
      "execution_count": 13,
      "outputs": [
        {
          "output_type": "execute_result",
          "data": {
            "text/html": [
              "<div>\n",
              "<style scoped>\n",
              "    .dataframe tbody tr th:only-of-type {\n",
              "        vertical-align: middle;\n",
              "    }\n",
              "\n",
              "    .dataframe tbody tr th {\n",
              "        vertical-align: top;\n",
              "    }\n",
              "\n",
              "    .dataframe thead th {\n",
              "        text-align: right;\n",
              "    }\n",
              "</style>\n",
              "<table border=\"1\" class=\"dataframe\">\n",
              "  <thead>\n",
              "    <tr style=\"text-align: right;\">\n",
              "      <th></th>\n",
              "      <th>date</th>\n",
              "      <th>max_temp</th>\n",
              "      <th>min_temp</th>\n",
              "    </tr>\n",
              "  </thead>\n",
              "  <tbody>\n",
              "    <tr>\n",
              "      <th>25560</th>\n",
              "      <td>2019-05-27</td>\n",
              "      <td>27.1</td>\n",
              "      <td>11.8</td>\n",
              "    </tr>\n",
              "    <tr>\n",
              "      <th>25561</th>\n",
              "      <td>2019-05-28</td>\n",
              "      <td>21.6</td>\n",
              "      <td>9.5</td>\n",
              "    </tr>\n",
              "    <tr>\n",
              "      <th>25562</th>\n",
              "      <td>2019-05-29</td>\n",
              "      <td>22.6</td>\n",
              "      <td>7.5</td>\n",
              "    </tr>\n",
              "    <tr>\n",
              "      <th>25563</th>\n",
              "      <td>2019-05-30</td>\n",
              "      <td>22.5</td>\n",
              "      <td>8.5</td>\n",
              "    </tr>\n",
              "    <tr>\n",
              "      <th>25564</th>\n",
              "      <td>2019-05-31</td>\n",
              "      <td>19.7</td>\n",
              "      <td>5.2</td>\n",
              "    </tr>\n",
              "  </tbody>\n",
              "</table>\n",
              "</div>"
            ],
            "text/plain": [
              "            date  max_temp  min_temp\n",
              "25560 2019-05-27      27.1      11.8\n",
              "25561 2019-05-28      21.6       9.5\n",
              "25562 2019-05-29      22.6       7.5\n",
              "25563 2019-05-30      22.5       8.5\n",
              "25564 2019-05-31      19.7       5.2"
            ]
          },
          "metadata": {
            "tags": []
          },
          "execution_count": 13
        }
      ]
    },
    {
      "cell_type": "markdown",
      "metadata": {
        "id": "ETMQt2sapFYN",
        "colab_type": "text"
      },
      "source": [
        "We can also get a summary of key statistics by using the .describe() command\n"
      ]
    },
    {
      "cell_type": "code",
      "metadata": {
        "id": "DR8SYeB2o6iQ",
        "colab_type": "code",
        "colab": {
          "base_uri": "https://localhost:8080/",
          "height": 288
        },
        "outputId": "2174bdfd-8388-4cb0-82db-a8bbcaa481c8"
      },
      "source": [
        "final_data.describe()"
      ],
      "execution_count": 15,
      "outputs": [
        {
          "output_type": "execute_result",
          "data": {
            "text/html": [
              "<div>\n",
              "<style scoped>\n",
              "    .dataframe tbody tr th:only-of-type {\n",
              "        vertical-align: middle;\n",
              "    }\n",
              "\n",
              "    .dataframe tbody tr th {\n",
              "        vertical-align: top;\n",
              "    }\n",
              "\n",
              "    .dataframe thead th {\n",
              "        text-align: right;\n",
              "    }\n",
              "</style>\n",
              "<table border=\"1\" class=\"dataframe\">\n",
              "  <thead>\n",
              "    <tr style=\"text-align: right;\">\n",
              "      <th></th>\n",
              "      <th>max_temp</th>\n",
              "      <th>min_temp</th>\n",
              "    </tr>\n",
              "  </thead>\n",
              "  <tbody>\n",
              "    <tr>\n",
              "      <th>count</th>\n",
              "      <td>25564.000000</td>\n",
              "      <td>25564.000000</td>\n",
              "    </tr>\n",
              "    <tr>\n",
              "      <th>mean</th>\n",
              "      <td>25.139225</td>\n",
              "      <td>15.362649</td>\n",
              "    </tr>\n",
              "    <tr>\n",
              "      <th>std</th>\n",
              "      <td>3.643943</td>\n",
              "      <td>5.216010</td>\n",
              "    </tr>\n",
              "    <tr>\n",
              "      <th>min</th>\n",
              "      <td>9.700000</td>\n",
              "      <td>-1.800000</td>\n",
              "    </tr>\n",
              "    <tr>\n",
              "      <th>25%</th>\n",
              "      <td>22.300000</td>\n",
              "      <td>11.600000</td>\n",
              "    </tr>\n",
              "    <tr>\n",
              "      <th>50%</th>\n",
              "      <td>25.400000</td>\n",
              "      <td>16.100000</td>\n",
              "    </tr>\n",
              "    <tr>\n",
              "      <th>75%</th>\n",
              "      <td>28.000000</td>\n",
              "      <td>19.500000</td>\n",
              "    </tr>\n",
              "    <tr>\n",
              "      <th>max</th>\n",
              "      <td>40.200000</td>\n",
              "      <td>28.100000</td>\n",
              "    </tr>\n",
              "  </tbody>\n",
              "</table>\n",
              "</div>"
            ],
            "text/plain": [
              "           max_temp      min_temp\n",
              "count  25564.000000  25564.000000\n",
              "mean      25.139225     15.362649\n",
              "std        3.643943      5.216010\n",
              "min        9.700000     -1.800000\n",
              "25%       22.300000     11.600000\n",
              "50%       25.400000     16.100000\n",
              "75%       28.000000     19.500000\n",
              "max       40.200000     28.100000"
            ]
          },
          "metadata": {
            "tags": []
          },
          "execution_count": 15
        }
      ]
    },
    {
      "cell_type": "markdown",
      "metadata": {
        "id": "yABVKYm3F1J6",
        "colab_type": "text"
      },
      "source": [
        "## Visualizing your Data\n",
        "\n",
        "\n",
        "Altair is a great data visualization library that is preinstalled in Colab.  It is a statistical visualization language with lots of plot types and statistical functions.\n",
        "\n"
      ]
    },
    {
      "cell_type": "code",
      "metadata": {
        "id": "PHjVrHELDVb3",
        "colab_type": "code",
        "colab": {}
      },
      "source": [
        "# load up the Altair package to give us access to advanced visualization methods\n",
        "import altair as alt\n",
        "\n",
        "# Altair has a default 5000 entry limit, this can be turned off but we'll keep it on for this example\n",
        "start_date = '2008-01-01'\n",
        "end_date =  '2018-12-31'\n",
        "\n",
        "# We need to create a mask to pull out the data we want.  This basically tells us the row indexes that sit between the two dates\n",
        "mask = (final_data['date'] > start_date) & (final_data['date'] <= end_date)\n",
        "\n",
        "# We'll create a new dataframe to store our plot data.  The .loc[mask] method returns the entries based on the indexes we obtained above\n",
        "plot_data = final_data.loc[mask]\n",
        "\n",
        "\n"
      ],
      "execution_count": 0,
      "outputs": []
    },
    {
      "cell_type": "code",
      "metadata": {
        "id": "WoX_TRHBSYFn",
        "colab_type": "code",
        "colab": {}
      },
      "source": [
        "# Altair is a bit involved to produce a graph.  The code below produces an interactive scatterplot that lets us zoom in and out\n",
        "alt.Chart(plot_data).mark_circle().encode(\n",
        "    alt.X('date:T',\n",
        "          scale=alt.Scale(zero=False)\n",
        "    ),\n",
        "    alt.Y('max_temp:Q',\n",
        "          scale=alt.Scale(zero=False)\n",
        "    ),\n",
        "    tooltip=['date', 'max_temp', 'min_temp'],\n",
        "    color=alt.Color('max_temp:Q', sort='descending', scale=alt.Scale(scheme=alt.SchemeParams(name='redyellowblue')))\n",
        ").interactive()"
      ],
      "execution_count": 0,
      "outputs": []
    },
    {
      "cell_type": "code",
      "metadata": {
        "id": "bKOGdULXO6IL",
        "colab_type": "code",
        "colab": {}
      },
      "source": [
        "# This is a more complex example.  This plot allows us to select a region of data and produce a histogram\n",
        "brush = alt.selection(type='interval')\n",
        "\n",
        "points = alt.Chart(plot_data).mark_point().encode(\n",
        "    alt.X('date:T',\n",
        "          scale=alt.Scale(zero=False)\n",
        "    ),\n",
        "    alt.Y('max_temp:Q',\n",
        "          scale=alt.Scale(zero=False)\n",
        "    ),\n",
        "    color=alt.condition(brush, 'max_temp:Q', alt.value('lightgray'),sort='descending', scale=alt.Scale(scheme=alt.SchemeParams(name='redyellowblue')) ),\n",
        ").add_selection(\n",
        "    brush\n",
        ")\n",
        "\n",
        "bars = alt.Chart(plot_data).mark_bar().encode(\n",
        "    alt.Y('count()',scale=alt.Scale(domain=[0, 60])),\n",
        "    alt.X('max_temp:Q', scale=alt.Scale(domain=[0, 40])),\n",
        "    color='max_temp:Q'\n",
        ").transform_filter(\n",
        "    brush\n",
        ")\n",
        "\n",
        "points & bars"
      ],
      "execution_count": 0,
      "outputs": []
    },
    {
      "cell_type": "code",
      "metadata": {
        "id": "R8ywnudATkPs",
        "colab_type": "code",
        "colab": {}
      },
      "source": [
        "import altair as alt\n",
        "from vega_datasets import data\n",
        "\n",
        "source = data.seattle_weather()\n",
        "\n",
        "scale = alt.Scale(domain=['sun', 'fog', 'drizzle', 'rain', 'snow'],\n",
        "                  range=['#e7ba52', '#a7a7a7', '#aec7e8', '#1f77b4', '#9467bd'])\n",
        "color = alt.Color('weather:N', scale=scale)\n",
        "\n",
        "# We create two selections:\n",
        "# - a brush that is active on the top panel\n",
        "# - a multi-click that is active on the bottom panel\n",
        "brush = alt.selection_interval(encodings=['x'])\n",
        "click = alt.selection_multi(encodings=['color'])\n",
        "\n",
        "# Top panel is scatter plot of temperature vs time\n",
        "points = alt.Chart().mark_point().encode(\n",
        "    alt.X('monthdate(date):T', title='Date'),\n",
        "    alt.Y('temp_max:Q',\n",
        "        title='Maximum Daily Temperature (C)',\n",
        "        scale=alt.Scale(domain=[-5, 40])\n",
        "    ),\n",
        "    color=alt.condition(brush, color, alt.value('lightgray')),\n",
        "    size=alt.Size('precipitation:Q', scale=alt.Scale(range=[5, 200]))\n",
        ").properties(\n",
        "    width=550,\n",
        "    height=300\n",
        ").add_selection(\n",
        "    brush\n",
        ").transform_filter(\n",
        "    click\n",
        ")\n",
        "\n",
        "# Bottom panel is a bar chart of weather type\n",
        "bars = alt.Chart().mark_bar().encode(\n",
        "    x='count()',\n",
        "    y='weather:N',\n",
        "    color=alt.condition(click, color, alt.value('lightgray')),\n",
        ").transform_filter(\n",
        "    brush\n",
        ").properties(\n",
        "    width=550,\n",
        ").add_selection(\n",
        "    click\n",
        ")\n",
        "\n",
        "alt.vconcat(\n",
        "    points,\n",
        "    bars,\n",
        "    data=source,\n",
        "    title=\"Seattle Weather: 2012-2015\"\n",
        ")"
      ],
      "execution_count": 0,
      "outputs": []
    }
  ]
}