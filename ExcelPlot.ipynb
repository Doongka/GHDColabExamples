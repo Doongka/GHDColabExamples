{
  "nbformat": 4,
  "nbformat_minor": 0,
  "metadata": {
    "colab": {
      "name": "ExcelPlot.ipynb",
      "provenance": [],
      "collapsed_sections": [],
      "toc_visible": true,
      "include_colab_link": true
    },
    "kernelspec": {
      "name": "python3",
      "display_name": "Python 3"
    }
  },
  "cells": [
    {
      "cell_type": "markdown",
      "metadata": {
        "id": "view-in-github",
        "colab_type": "text"
      },
      "source": [
        "<a href=\"https://colab.research.google.com/github/Doongka/GHDColabExamples/blob/master/ExcelPlot.ipynb\" target=\"_parent\"><img src=\"https://colab.research.google.com/assets/colab-badge.svg\" alt=\"Open In Colab\"/></a>"
      ]
    },
    {
      "cell_type": "markdown",
      "metadata": {
        "id": "emFym08P7uPv",
        "colab_type": "text"
      },
      "source": [
        "# Upload Excel Spreadsheet and Plot Example\n",
        "The goal of this notebook is to provide a quick overview of some useful Python tools used for cleaning, analysing and visualizing data.\n"
      ]
    },
    {
      "cell_type": "markdown",
      "metadata": {
        "id": "EgPfO6FWnMEe",
        "colab_type": "text"
      },
      "source": [
        "## Prepare the workspace\n",
        "Google Colab has many useful Python packages preinstalled such so there shouldn't be any need to install them yourself.  Packages are basically collections of useful functions.  If case you do need something that is not installed, you can run a \"pip\" installation as per below.  \n",
        "\n",
        "You can see that I've \"commented\" the bit of code that installs the package \"\".  Uncomment this line and run the code block.\n"
      ]
    },
    {
      "cell_type": "code",
      "metadata": {
        "id": "4tOQpc6XK1xp",
        "colab_type": "code",
        "colab": {}
      },
      "source": [
        "# We place a ! in front of the command to indicate that we want this to run in a console.\n",
        "# !pip install altair --upgrade"
      ],
      "execution_count": 0,
      "outputs": []
    },
    {
      "cell_type": "markdown",
      "metadata": {
        "id": "bFsenpopExeC",
        "colab_type": "text"
      },
      "source": [
        "## Uploading your data to Colab\n",
        "After running the cell below, you will see a \"Choose Files\" button that will allow you to select the files you wish to upload.  \n",
        "\n",
        "\n"
      ]
    },
    {
      "cell_type": "code",
      "metadata": {
        "id": "wITgvJetPcws",
        "colab_type": "code",
        "outputId": "3fcd3cac-917c-4b84-c3b3-fa2fc1230753",
        "colab": {
          "resources": {
            "http://localhost:8080/nbextensions/google.colab/files.js": {
              "data": "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",
              "ok": true,
              "headers": [
                [
                  "content-type",
                  "application/javascript"
                ]
              ],
              "status": 200,
              "status_text": ""
            }
          },
          "base_uri": "https://localhost:8080/",
          "height": 74
        }
      },
      "source": [
        "from google.colab import files\n",
        "\n",
        "uploaded = files.upload()"
      ],
      "execution_count": 2,
      "outputs": [
        {
          "output_type": "display_data",
          "data": {
            "text/html": [
              "\n",
              "     <input type=\"file\" id=\"files-d5bceb21-67a6-41c1-a20b-c9df3cb55017\" name=\"files[]\" multiple disabled />\n",
              "     <output id=\"result-d5bceb21-67a6-41c1-a20b-c9df3cb55017\">\n",
              "      Upload widget is only available when the cell has been executed in the\n",
              "      current browser session. Please rerun this cell to enable.\n",
              "      </output>\n",
              "      <script src=\"/nbextensions/google.colab/files.js\"></script> "
            ],
            "text/plain": [
              "<IPython.core.display.HTML object>"
            ]
          },
          "metadata": {
            "tags": []
          }
        },
        {
          "output_type": "stream",
          "text": [
            "Saving Main_Meter_flow_logger_data.xlsx to Main_Meter_flow_logger_data.xlsx\n"
          ],
          "name": "stdout"
        }
      ]
    },
    {
      "cell_type": "markdown",
      "metadata": {
        "id": "KeqC4zZP53R7",
        "colab_type": "text"
      },
      "source": [
        "Running the next cell will give you an overview of the files you have just uploaded.  This is a handy test to make sure it uploaded correctly."
      ]
    },
    {
      "cell_type": "code",
      "metadata": {
        "id": "42WBIjwKd46C",
        "colab_type": "code",
        "outputId": "7218e168-5e13-4336-9aa9-122b00382854",
        "colab": {
          "base_uri": "https://localhost:8080/",
          "height": 34
        }
      },
      "source": [
        "for fn in uploaded.keys():\n",
        "  print('User uploaded file \"{name}\" with length {length} bytes'.format(\n",
        "      name=fn, length=len(uploaded[fn])))"
      ],
      "execution_count": 3,
      "outputs": [
        {
          "output_type": "stream",
          "text": [
            "User uploaded file \"Main_Meter_flow_logger_data.xlsx\" with length 696921 bytes\n"
          ],
          "name": "stdout"
        }
      ]
    },
    {
      "cell_type": "markdown",
      "metadata": {
        "id": "PnGYpvHuFWy-",
        "colab_type": "text"
      },
      "source": [
        "## Wrangling your data\n",
        "\n",
        "Python has many pre-built packages that help with any extract, transform and load (ETL) operations required to get the data ready.  The standard library contains lots of really good methods but sometimes we want something even better.\n",
        "\n",
        "Pandas is a popular library that provides many useful methods for data manipulation. We will be using the \"Dataframe\" functionality which will allow us to import data from a CSV file and perform several data wrangling and cleansing tasks.\n",
        "\n"
      ]
    },
    {
      "cell_type": "code",
      "metadata": {
        "id": "h8FV3yb-FlLZ",
        "colab_type": "code",
        "colab": {}
      },
      "source": [
        "#These commands allow us to load the libraries in to our current notebook\n",
        "import pandas as pd"
      ],
      "execution_count": 0,
      "outputs": []
    },
    {
      "cell_type": "markdown",
      "metadata": {
        "id": "4QwiIKEbGice",
        "colab_type": "text"
      },
      "source": [
        "## Loading your data\n",
        "Before we can do anything with our data, we first need to load it.  Pandas has some great methods to read files and load them into a useful format. \n",
        "\n",
        "In the code block below, we are loading a CSV file and tranforming it in the form of a Dataframe object.  A Dataframe is effectively Pandas's answer to storing data in a tabular format."
      ]
    },
    {
      "cell_type": "code",
      "metadata": {
        "id": "Pz0QoS3MQ5_4",
        "colab_type": "code",
        "outputId": "e75de383-970a-4b4c-f5b5-16952da18720",
        "colab": {
          "base_uri": "https://localhost:8080/",
          "height": 204
        }
      },
      "source": [
        "# read the csv and load the contents into memory as a dataframe\n",
        "# data = pd.read_csv('brisbanetemp.csv')\n",
        "\n",
        "# read the excel and load the contents into memory as a dataframe\n",
        "data = pd.read_excel('Main_Meter_flow_logger_data.xlsx')\n",
        "\n",
        "# the head() method allows us to view the first 5 entries in the dataframe\n",
        "data.head()"
      ],
      "execution_count": 5,
      "outputs": [
        {
          "output_type": "execute_result",
          "data": {
            "text/html": [
              "<div>\n",
              "<style scoped>\n",
              "    .dataframe tbody tr th:only-of-type {\n",
              "        vertical-align: middle;\n",
              "    }\n",
              "\n",
              "    .dataframe tbody tr th {\n",
              "        vertical-align: top;\n",
              "    }\n",
              "\n",
              "    .dataframe thead th {\n",
              "        text-align: right;\n",
              "    }\n",
              "</style>\n",
              "<table border=\"1\" class=\"dataframe\">\n",
              "  <thead>\n",
              "    <tr style=\"text-align: right;\">\n",
              "      <th></th>\n",
              "      <th>Graph Unit</th>\n",
              "      <th>Kilolitres</th>\n",
              "    </tr>\n",
              "  </thead>\n",
              "  <tbody>\n",
              "    <tr>\n",
              "      <th>0</th>\n",
              "      <td>NaN</td>\n",
              "      <td>NaN</td>\n",
              "    </tr>\n",
              "    <tr>\n",
              "      <th>1</th>\n",
              "      <td>NaN</td>\n",
              "      <td>Botanical Gardens Toowong Mobile Logger #107 (...</td>\n",
              "    </tr>\n",
              "    <tr>\n",
              "      <th>2</th>\n",
              "      <td>Wednesday 20/03/2019 12:00:00 AM</td>\n",
              "      <td>0</td>\n",
              "    </tr>\n",
              "    <tr>\n",
              "      <th>3</th>\n",
              "      <td>Wednesday 20/03/2019 12:15:00 AM</td>\n",
              "      <td>0.03</td>\n",
              "    </tr>\n",
              "    <tr>\n",
              "      <th>4</th>\n",
              "      <td>Wednesday 20/03/2019 12:30:00 AM</td>\n",
              "      <td>0.04</td>\n",
              "    </tr>\n",
              "  </tbody>\n",
              "</table>\n",
              "</div>"
            ],
            "text/plain": [
              "                         Graph Unit                                         Kilolitres\n",
              "0                               NaN                                                NaN\n",
              "1                               NaN  Botanical Gardens Toowong Mobile Logger #107 (...\n",
              "2  Wednesday 20/03/2019 12:00:00 AM                                                  0\n",
              "3  Wednesday 20/03/2019 12:15:00 AM                                               0.03\n",
              "4  Wednesday 20/03/2019 12:30:00 AM                                               0.04"
            ]
          },
          "metadata": {
            "tags": []
          },
          "execution_count": 5
        }
      ]
    },
    {
      "cell_type": "markdown",
      "metadata": {
        "id": "26ZGjoeGtPg7",
        "colab_type": "text"
      },
      "source": [
        "# Cleaning up your data\n",
        "From the table above check to see if any header rows are unable to be read.  \"NaN\" means \"Not a Number\" and in this case was caused by empty cells in the first row of the data.  Let's remove this row entry using the following command. "
      ]
    },
    {
      "cell_type": "code",
      "metadata": {
        "id": "uwIsdDIYtOTM",
        "colab_type": "code",
        "outputId": "3df39539-072f-4356-d5df-cc943c0c474c",
        "colab": {
          "base_uri": "https://localhost:8080/",
          "height": 204
        }
      },
      "source": [
        "# Drop the rows from the dataframe and assign to a new Dataframe called \"cleansed_data\"\n",
        "cleansed_data = data.drop(data.index[0:2])\n",
        "\n",
        "# Let's have a look to see if it worked\n",
        "cleansed_data.head()"
      ],
      "execution_count": 6,
      "outputs": [
        {
          "output_type": "execute_result",
          "data": {
            "text/html": [
              "<div>\n",
              "<style scoped>\n",
              "    .dataframe tbody tr th:only-of-type {\n",
              "        vertical-align: middle;\n",
              "    }\n",
              "\n",
              "    .dataframe tbody tr th {\n",
              "        vertical-align: top;\n",
              "    }\n",
              "\n",
              "    .dataframe thead th {\n",
              "        text-align: right;\n",
              "    }\n",
              "</style>\n",
              "<table border=\"1\" class=\"dataframe\">\n",
              "  <thead>\n",
              "    <tr style=\"text-align: right;\">\n",
              "      <th></th>\n",
              "      <th>Graph Unit</th>\n",
              "      <th>Kilolitres</th>\n",
              "    </tr>\n",
              "  </thead>\n",
              "  <tbody>\n",
              "    <tr>\n",
              "      <th>2</th>\n",
              "      <td>Wednesday 20/03/2019 12:00:00 AM</td>\n",
              "      <td>0</td>\n",
              "    </tr>\n",
              "    <tr>\n",
              "      <th>3</th>\n",
              "      <td>Wednesday 20/03/2019 12:15:00 AM</td>\n",
              "      <td>0.03</td>\n",
              "    </tr>\n",
              "    <tr>\n",
              "      <th>4</th>\n",
              "      <td>Wednesday 20/03/2019 12:30:00 AM</td>\n",
              "      <td>0.04</td>\n",
              "    </tr>\n",
              "    <tr>\n",
              "      <th>5</th>\n",
              "      <td>Wednesday 20/03/2019 12:45:00 AM</td>\n",
              "      <td>0</td>\n",
              "    </tr>\n",
              "    <tr>\n",
              "      <th>6</th>\n",
              "      <td>Wednesday 20/03/2019 01:00:00 AM</td>\n",
              "      <td>0.08</td>\n",
              "    </tr>\n",
              "  </tbody>\n",
              "</table>\n",
              "</div>"
            ],
            "text/plain": [
              "                         Graph Unit  Kilolitres\n",
              "2  Wednesday 20/03/2019 12:00:00 AM           0\n",
              "3  Wednesday 20/03/2019 12:15:00 AM        0.03\n",
              "4  Wednesday 20/03/2019 12:30:00 AM        0.04\n",
              "5  Wednesday 20/03/2019 12:45:00 AM           0\n",
              "6  Wednesday 20/03/2019 01:00:00 AM        0.08"
            ]
          },
          "metadata": {
            "tags": []
          },
          "execution_count": 6
        }
      ]
    },
    {
      "cell_type": "markdown",
      "metadata": {
        "id": "68yOmNlLqOF0",
        "colab_type": "text"
      },
      "source": [
        "It's also worth checking that the data types are correct"
      ]
    },
    {
      "cell_type": "code",
      "metadata": {
        "id": "MOt3qqxTqOxR",
        "colab_type": "code",
        "outputId": "efc2caac-b5ef-4cdd-9015-6e2d8a13935d",
        "colab": {
          "base_uri": "https://localhost:8080/",
          "height": 68
        }
      },
      "source": [
        "cleansed_data.dtypes"
      ],
      "execution_count": 7,
      "outputs": [
        {
          "output_type": "execute_result",
          "data": {
            "text/plain": [
              "Graph Unit     object\n",
              " Kilolitres    object\n",
              "dtype: object"
            ]
          },
          "metadata": {
            "tags": []
          },
          "execution_count": 7
        }
      ]
    },
    {
      "cell_type": "markdown",
      "metadata": {
        "id": "Z4B6O24QqX3n",
        "colab_type": "text"
      },
      "source": [
        "If you need to convert to a number type like float or int you can do the following"
      ]
    },
    {
      "cell_type": "code",
      "metadata": {
        "id": "dQ4qdVjCqWOr",
        "colab_type": "code",
        "colab": {}
      },
      "source": [
        "cleansed_data[' Kilolitres'] = pd.to_numeric(cleansed_data[' Kilolitres'])"
      ],
      "execution_count": 0,
      "outputs": []
    },
    {
      "cell_type": "markdown",
      "metadata": {
        "id": "p9AaPHwy_Zw9",
        "colab_type": "text"
      },
      "source": [
        "If there are columns not needed, you can drop these too."
      ]
    },
    {
      "cell_type": "code",
      "metadata": {
        "id": "tfz8u9QGuQxa",
        "colab_type": "code",
        "colab": {}
      },
      "source": [
        "# drop the columns 'XXXXXXX'.  Replace XXXXXXX with the appropriate column header\n",
        "# cleansed_data = cleansed_data.drop(['XXXXXXX'], axis=1)\n",
        "\n",
        "# check to see what we're left with\n",
        "# cleansed_data.head()"
      ],
      "execution_count": 0,
      "outputs": []
    },
    {
      "cell_type": "markdown",
      "metadata": {
        "id": "fUQy3Ck3_tPD",
        "colab_type": "text"
      },
      "source": [
        "Looking good but we should check the rest of the data.  Running the \"info\" method gives us information on the type of data stored in each column and also the number of non-null (not empty or NaN) entries. "
      ]
    },
    {
      "cell_type": "code",
      "metadata": {
        "id": "DCAqvjoAu1jz",
        "colab_type": "code",
        "outputId": "de7f261f-bb78-40bb-dee8-dc83387aaa08",
        "colab": {
          "base_uri": "https://localhost:8080/",
          "height": 170
        }
      },
      "source": [
        "cleansed_data.info()"
      ],
      "execution_count": 10,
      "outputs": [
        {
          "output_type": "stream",
          "text": [
            "<class 'pandas.core.frame.DataFrame'>\n",
            "Int64Index: 36211 entries, 2 to 36212\n",
            "Data columns (total 2 columns):\n",
            " #   Column       Non-Null Count  Dtype  \n",
            "---  ------       --------------  -----  \n",
            " 0   Graph Unit   36211 non-null  object \n",
            " 1    Kilolitres  36211 non-null  float64\n",
            "dtypes: float64(1), object(1)\n",
            "memory usage: 848.7+ KB\n"
          ],
          "name": "stdout"
        }
      ]
    },
    {
      "cell_type": "markdown",
      "metadata": {
        "id": "FN4GnPLn_9qL",
        "colab_type": "text"
      },
      "source": [
        "If the number of non-null entries for each column is not equal, this means there are null entries sitting in our table.  We can search for them by doing the following."
      ]
    },
    {
      "cell_type": "code",
      "metadata": {
        "id": "O2tlPffdvzNS",
        "colab_type": "code",
        "colab": {}
      },
      "source": [
        "# Find the null values in the column named XXXXXX\n",
        "# missing_data = cleansed_data['XXXXXX)'].isna()\n",
        "\n",
        "# find the null values in another column YYYYYY.  We are using a logical OR (|) to get a combined list of null entries\n",
        "# missing_data = missing_data | cleansed_data['YYYYYY)'].isna()\n",
        "\n",
        "# Count the number of rows that have null entries\n",
        "# missing_data.sum()"
      ],
      "execution_count": 0,
      "outputs": []
    },
    {
      "cell_type": "markdown",
      "metadata": {
        "id": "r_AaKvLDANiU",
        "colab_type": "text"
      },
      "source": [
        "If rows contain at least one null value look at them using this:-"
      ]
    },
    {
      "cell_type": "code",
      "metadata": {
        "id": "-9VBOp-1w0E6",
        "colab_type": "code",
        "colab": {}
      },
      "source": [
        "# Show only the rows that contain the null values.  Note the format.  The input number represents the rows we want, the second is the columns we want.  A colon (:)\n",
        "# means we want to show all columns\n",
        "# cleansed_data.loc[missing_data,:]"
      ],
      "execution_count": 0,
      "outputs": []
    },
    {
      "cell_type": "markdown",
      "metadata": {
        "id": "2X9oz0VTBK5G",
        "colab_type": "text"
      },
      "source": [
        "We have several options at out disposal here to handle the null entries, we can:\n",
        "\n",
        "  \n",
        "\n",
        "*   delete the rows but that's generally not a good idea for time series data \n",
        "*   back or forward filling the entry using the values around it\n",
        "*   interpolate between values\n",
        "\n",
        "Uncomment the approach you'd like to take\n"
      ]
    },
    {
      "cell_type": "code",
      "metadata": {
        "id": "byLUfjffxqHg",
        "colab_type": "code",
        "outputId": "c91e7c52-f82b-45ce-fbae-7e38592ff7b2",
        "colab": {
          "base_uri": "https://localhost:8080/",
          "height": 170
        }
      },
      "source": [
        "# We can remove all of the rows that have NaNs.  Probably not a good idea for a time series plot but necessary if the data can't be imputed\n",
        "# final_data = cleansed_data.dropna(how='any')\n",
        "\n",
        "# We can back fill the data based on the data either side\n",
        "# final_data = cleansed_data.fillna(method='bfill')\n",
        "# Or forward fill\n",
        "# final_data = cleansed_data.fillna(method='ffill')\n",
        "\n",
        "# We can interpolate \n",
        "# final_data = cleansed_data.interpolate(method='linear')\n",
        "\n",
        "# If there are no changes use this\n",
        "final_data = cleansed_data\n",
        "final_data.info()"
      ],
      "execution_count": 12,
      "outputs": [
        {
          "output_type": "stream",
          "text": [
            "<class 'pandas.core.frame.DataFrame'>\n",
            "Int64Index: 36211 entries, 2 to 36212\n",
            "Data columns (total 2 columns):\n",
            " #   Column       Non-Null Count  Dtype  \n",
            "---  ------       --------------  -----  \n",
            " 0   Graph Unit   36211 non-null  object \n",
            " 1    Kilolitres  36211 non-null  float64\n",
            "dtypes: float64(1), object(1)\n",
            "memory usage: 848.7+ KB\n"
          ],
          "name": "stdout"
        }
      ]
    },
    {
      "cell_type": "markdown",
      "metadata": {
        "id": "mrb_IjhGBw8U",
        "colab_type": "text"
      },
      "source": [
        "The last thing we need to do is to make sure the date is in a usable format for the graph.  We can do this by using the \"to_datetime\" method in Pandas"
      ]
    },
    {
      "cell_type": "code",
      "metadata": {
        "id": "AHrUT96QyrQ7",
        "colab_type": "code",
        "outputId": "86c06fa7-1fd0-430c-f446-92e3f9c2c007",
        "colab": {
          "base_uri": "https://localhost:8080/",
          "height": 204
        }
      },
      "source": [
        "# Fix the data column so it is in a usable format\n",
        "final_data['Graph Unit'] = pd.to_datetime(final_data['Graph Unit'],infer_datetime_format=True)\n",
        "\n",
        "# Rename the columns so they're easier to read.  Chnage XXXXXX to YYYYYY\n",
        "# final_data = final_data.rename(columns={\"XXXXXX\": \"YYYYYY\"})\n",
        "final_data = final_data.rename(columns={\"Graph Unit\": \"Date\", \" Kilolitres\": \"Kilolitres\"})\n",
        "\n",
        "# take a final look at the data\n",
        "final_data.head()"
      ],
      "execution_count": 13,
      "outputs": [
        {
          "output_type": "execute_result",
          "data": {
            "text/html": [
              "<div>\n",
              "<style scoped>\n",
              "    .dataframe tbody tr th:only-of-type {\n",
              "        vertical-align: middle;\n",
              "    }\n",
              "\n",
              "    .dataframe tbody tr th {\n",
              "        vertical-align: top;\n",
              "    }\n",
              "\n",
              "    .dataframe thead th {\n",
              "        text-align: right;\n",
              "    }\n",
              "</style>\n",
              "<table border=\"1\" class=\"dataframe\">\n",
              "  <thead>\n",
              "    <tr style=\"text-align: right;\">\n",
              "      <th></th>\n",
              "      <th>Date</th>\n",
              "      <th>Kilolitres</th>\n",
              "    </tr>\n",
              "  </thead>\n",
              "  <tbody>\n",
              "    <tr>\n",
              "      <th>2</th>\n",
              "      <td>2019-03-20 00:00:00</td>\n",
              "      <td>0.00</td>\n",
              "    </tr>\n",
              "    <tr>\n",
              "      <th>3</th>\n",
              "      <td>2019-03-20 00:15:00</td>\n",
              "      <td>0.03</td>\n",
              "    </tr>\n",
              "    <tr>\n",
              "      <th>4</th>\n",
              "      <td>2019-03-20 00:30:00</td>\n",
              "      <td>0.04</td>\n",
              "    </tr>\n",
              "    <tr>\n",
              "      <th>5</th>\n",
              "      <td>2019-03-20 00:45:00</td>\n",
              "      <td>0.00</td>\n",
              "    </tr>\n",
              "    <tr>\n",
              "      <th>6</th>\n",
              "      <td>2019-03-20 01:00:00</td>\n",
              "      <td>0.08</td>\n",
              "    </tr>\n",
              "  </tbody>\n",
              "</table>\n",
              "</div>"
            ],
            "text/plain": [
              "                 Date  Kilolitres\n",
              "2 2019-03-20 00:00:00        0.00\n",
              "3 2019-03-20 00:15:00        0.03\n",
              "4 2019-03-20 00:30:00        0.04\n",
              "5 2019-03-20 00:45:00        0.00\n",
              "6 2019-03-20 01:00:00        0.08"
            ]
          },
          "metadata": {
            "tags": []
          },
          "execution_count": 13
        }
      ]
    },
    {
      "cell_type": "markdown",
      "metadata": {
        "id": "ETMQt2sapFYN",
        "colab_type": "text"
      },
      "source": [
        "We can also get a summary of key statistics by using the .describe() command\n"
      ]
    },
    {
      "cell_type": "code",
      "metadata": {
        "id": "DR8SYeB2o6iQ",
        "colab_type": "code",
        "outputId": "20acac35-73a5-443b-a022-4eb5713f0dcd",
        "colab": {
          "base_uri": "https://localhost:8080/",
          "height": 416
        }
      },
      "source": [
        "# Get a the summay stats from the dataset\n",
        "display(final_data.astype(int).describe())\n",
        "display(final_data['Date'].describe())\n"
      ],
      "execution_count": 14,
      "outputs": [
        {
          "output_type": "display_data",
          "data": {
            "text/html": [
              "<div>\n",
              "<style scoped>\n",
              "    .dataframe tbody tr th:only-of-type {\n",
              "        vertical-align: middle;\n",
              "    }\n",
              "\n",
              "    .dataframe tbody tr th {\n",
              "        vertical-align: top;\n",
              "    }\n",
              "\n",
              "    .dataframe thead th {\n",
              "        text-align: right;\n",
              "    }\n",
              "</style>\n",
              "<table border=\"1\" class=\"dataframe\">\n",
              "  <thead>\n",
              "    <tr style=\"text-align: right;\">\n",
              "      <th></th>\n",
              "      <th>Date</th>\n",
              "      <th>Kilolitres</th>\n",
              "    </tr>\n",
              "  </thead>\n",
              "  <tbody>\n",
              "    <tr>\n",
              "      <th>count</th>\n",
              "      <td>3.621100e+04</td>\n",
              "      <td>36211.000000</td>\n",
              "    </tr>\n",
              "    <tr>\n",
              "      <th>mean</th>\n",
              "      <td>1.569767e+18</td>\n",
              "      <td>2.389164</td>\n",
              "    </tr>\n",
              "    <tr>\n",
              "      <th>std</th>\n",
              "      <td>1.302302e+16</td>\n",
              "      <td>5.138577</td>\n",
              "    </tr>\n",
              "    <tr>\n",
              "      <th>min</th>\n",
              "      <td>1.546560e+18</td>\n",
              "      <td>0.000000</td>\n",
              "    </tr>\n",
              "    <tr>\n",
              "      <th>25%</th>\n",
              "      <td>1.559632e+18</td>\n",
              "      <td>0.000000</td>\n",
              "    </tr>\n",
              "    <tr>\n",
              "      <th>50%</th>\n",
              "      <td>1.568557e+18</td>\n",
              "      <td>0.000000</td>\n",
              "    </tr>\n",
              "    <tr>\n",
              "      <th>75%</th>\n",
              "      <td>1.577482e+18</td>\n",
              "      <td>2.000000</td>\n",
              "    </tr>\n",
              "    <tr>\n",
              "      <th>max</th>\n",
              "      <td>1.607126e+18</td>\n",
              "      <td>60.000000</td>\n",
              "    </tr>\n",
              "  </tbody>\n",
              "</table>\n",
              "</div>"
            ],
            "text/plain": [
              "               Date    Kilolitres\n",
              "count  3.621100e+04  36211.000000\n",
              "mean   1.569767e+18      2.389164\n",
              "std    1.302302e+16      5.138577\n",
              "min    1.546560e+18      0.000000\n",
              "25%    1.559632e+18      0.000000\n",
              "50%    1.568557e+18      0.000000\n",
              "75%    1.577482e+18      2.000000\n",
              "max    1.607126e+18     60.000000"
            ]
          },
          "metadata": {
            "tags": []
          }
        },
        {
          "output_type": "display_data",
          "data": {
            "text/plain": [
              "count                   36211\n",
              "unique                  36211\n",
              "top       2020-12-04 15:15:00\n",
              "freq                        1\n",
              "first     2019-01-04 00:00:00\n",
              "last      2020-12-04 23:45:00\n",
              "Name: Date, dtype: object"
            ]
          },
          "metadata": {
            "tags": []
          }
        }
      ]
    },
    {
      "cell_type": "markdown",
      "metadata": {
        "id": "yABVKYm3F1J6",
        "colab_type": "text"
      },
      "source": [
        "## Visualizing your Data\n",
        "\n",
        "\n",
        "Altair is a great data visualization library that is preinstalled in Colab.  It is a statistical visualization language with lots of plot types and statistical functions.\n",
        "\n"
      ]
    },
    {
      "cell_type": "code",
      "metadata": {
        "id": "PHjVrHELDVb3",
        "colab_type": "code",
        "outputId": "53ece32e-64f1-4b08-99e4-4c7705efeaf9",
        "colab": {
          "base_uri": "https://localhost:8080/",
          "height": 297
        }
      },
      "source": [
        "# load up the Altair package to give us access to advanced visualization methods\n",
        "import altair as alt\n",
        "\n",
        "# Altair has a default 5000 entry limit, this can be turned off but may be slow\n",
        "alt.data_transformers.disable_max_rows()\n",
        "\n",
        "#X axis range\n",
        "X_min = '2019-01-04 00:00:00'\n",
        "X_max =  '2019-1-05 23:45:00'\n",
        "# X_max =  '2020-12-04 23:45:00'\n",
        "\n",
        "#Y axis range\n",
        "volume_limit_max = 60\n",
        "volume_limit_min = 0\n",
        "\n",
        "# We need to create a mask to pull out the data we want.  This basically tells us the row indexes that sit between the two dates\n",
        "mask = (final_data['Date'] > X_min) & (final_data['Date'] <= X_max)\n",
        "\n",
        "# We'll create a new dataframe to store our plot data.  The .loc[mask] method returns the entries based on the indexes we obtained above\n",
        "plot_data = final_data.loc[mask]\n",
        "\n",
        "#Check number of data points\n",
        "plot_data.describe()\n"
      ],
      "execution_count": 15,
      "outputs": [
        {
          "output_type": "execute_result",
          "data": {
            "text/html": [
              "<div>\n",
              "<style scoped>\n",
              "    .dataframe tbody tr th:only-of-type {\n",
              "        vertical-align: middle;\n",
              "    }\n",
              "\n",
              "    .dataframe tbody tr th {\n",
              "        vertical-align: top;\n",
              "    }\n",
              "\n",
              "    .dataframe thead th {\n",
              "        text-align: right;\n",
              "    }\n",
              "</style>\n",
              "<table border=\"1\" class=\"dataframe\">\n",
              "  <thead>\n",
              "    <tr style=\"text-align: right;\">\n",
              "      <th></th>\n",
              "      <th>Kilolitres</th>\n",
              "    </tr>\n",
              "  </thead>\n",
              "  <tbody>\n",
              "    <tr>\n",
              "      <th>count</th>\n",
              "      <td>191.000000</td>\n",
              "    </tr>\n",
              "    <tr>\n",
              "      <th>mean</th>\n",
              "      <td>1.654817</td>\n",
              "    </tr>\n",
              "    <tr>\n",
              "      <th>std</th>\n",
              "      <td>2.502954</td>\n",
              "    </tr>\n",
              "    <tr>\n",
              "      <th>min</th>\n",
              "      <td>0.000000</td>\n",
              "    </tr>\n",
              "    <tr>\n",
              "      <th>25%</th>\n",
              "      <td>0.425000</td>\n",
              "    </tr>\n",
              "    <tr>\n",
              "      <th>50%</th>\n",
              "      <td>0.650000</td>\n",
              "    </tr>\n",
              "    <tr>\n",
              "      <th>75%</th>\n",
              "      <td>2.175000</td>\n",
              "    </tr>\n",
              "    <tr>\n",
              "      <th>max</th>\n",
              "      <td>15.700000</td>\n",
              "    </tr>\n",
              "  </tbody>\n",
              "</table>\n",
              "</div>"
            ],
            "text/plain": [
              "       Kilolitres\n",
              "count  191.000000\n",
              "mean     1.654817\n",
              "std      2.502954\n",
              "min      0.000000\n",
              "25%      0.425000\n",
              "50%      0.650000\n",
              "75%      2.175000\n",
              "max     15.700000"
            ]
          },
          "metadata": {
            "tags": []
          },
          "execution_count": 15
        }
      ]
    },
    {
      "cell_type": "markdown",
      "metadata": {
        "id": "ackdeInM3sbY",
        "colab_type": "text"
      },
      "source": [
        "Altair is a bit involved to produce a plot and takes a while to get used to but it produces beautiful plots.  The example below is an interactive scatterplot that allows us to zoom in and out."
      ]
    },
    {
      "cell_type": "code",
      "metadata": {
        "id": "uSoTAEWFpzyg",
        "colab_type": "code",
        "outputId": "7096dee6-397a-426f-a0bc-b5f0370f580f",
        "colab": {
          "base_uri": "https://localhost:8080/",
          "height": 568
        }
      },
      "source": [
        "# The code below produces an interactive scatterplot that lets us zoom in and out\n",
        "alt.Chart(plot_data, height=500, width=1000).mark_line(point=True).encode(\n",
        "    alt.X('Date:T',\n",
        "          scale=alt.Scale(zero=False)\n",
        "    ),\n",
        "    alt.Y('Kilolitres:Q',\n",
        "          scale=alt.Scale(zero=False)\n",
        "    ),\n",
        "    order='Date',\n",
        "    tooltip=['Date', 'Kilolitres'],\n",
        "    # color=alt.Color('Kilolitres', sort='descending', scale=alt.Scale(scheme=alt.SchemeParams(name='redyellowblue')))\n",
        ").interactive()\n"
      ],
      "execution_count": 19,
      "outputs": [
        {
          "output_type": "execute_result",
          "data": {
            "text/plain": [
              "alt.Chart(...)"
            ],
            "text/html": [
              "\n",
              "<div id=\"altair-viz-ef3ebd8dd19243f98e0e9d5b9477f1b2\"></div>\n",
              "<script type=\"text/javascript\">\n",
              "  (function(spec, embedOpt){\n",
              "    let outputDiv = document.currentScript.previousElementSibling;\n",
              "    if (outputDiv.id !== \"altair-viz-ef3ebd8dd19243f98e0e9d5b9477f1b2\") {\n",
              "      outputDiv = document.getElementById(\"altair-viz-ef3ebd8dd19243f98e0e9d5b9477f1b2\");\n",
              "    }\n",
              "    const paths = {\n",
              "      \"vega\": \"https://cdn.jsdelivr.net/npm//vega@5?noext\",\n",
              "      \"vega-lib\": \"https://cdn.jsdelivr.net/npm//vega-lib?noext\",\n",
              "      \"vega-lite\": \"https://cdn.jsdelivr.net/npm//vega-lite@4.8.1?noext\",\n",
              "      \"vega-embed\": \"https://cdn.jsdelivr.net/npm//vega-embed@6?noext\",\n",
              "    };\n",
              "\n",
              "    function loadScript(lib) {\n",
              "      return new Promise(function(resolve, reject) {\n",
              "        var s = document.createElement('script');\n",
              "        s.src = paths[lib];\n",
              "        s.async = true;\n",
              "        s.onload = () => resolve(paths[lib]);\n",
              "        s.onerror = () => reject(`Error loading script: ${paths[lib]}`);\n",
              "        document.getElementsByTagName(\"head\")[0].appendChild(s);\n",
              "      });\n",
              "    }\n",
              "\n",
              "    function showError(err) {\n",
              "      outputDiv.innerHTML = `<div class=\"error\" style=\"color:red;\">${err}</div>`;\n",
              "      throw err;\n",
              "    }\n",
              "\n",
              "    function displayChart(vegaEmbed) {\n",
              "      vegaEmbed(outputDiv, spec, embedOpt)\n",
              "        .catch(err => showError(`Javascript Error: ${err.message}<br>This usually means there's a typo in your chart specification. See the javascript console for the full traceback.`));\n",
              "    }\n",
              "\n",
              "    if(typeof define === \"function\" && define.amd) {\n",
              "      requirejs.config({paths});\n",
              "      require([\"vega-embed\"], displayChart, err => showError(`Error loading script: ${err.message}`));\n",
              "    } else if (typeof vegaEmbed === \"function\") {\n",
              "      displayChart(vegaEmbed);\n",
              "    } else {\n",
              "      loadScript(\"vega\")\n",
              "        .then(() => loadScript(\"vega-lite\"))\n",
              "        .then(() => loadScript(\"vega-embed\"))\n",
              "        .catch(showError)\n",
              "        .then(() => displayChart(vegaEmbed));\n",
              "    }\n",
              "  })({\"config\": {\"view\": {\"continuousWidth\": 400, \"continuousHeight\": 300}}, \"data\": {\"name\": \"data-ffbb099c9c938c055c3b20e6379918a2\"}, \"mark\": {\"type\": \"line\", \"point\": true}, \"encoding\": {\"order\": {\"type\": \"temporal\", \"field\": \"Date\"}, \"tooltip\": [{\"type\": \"temporal\", \"field\": \"Date\"}, {\"type\": \"quantitative\", \"field\": \"Kilolitres\"}], \"x\": {\"type\": \"temporal\", \"field\": \"Date\", \"scale\": {\"zero\": false}}, \"y\": {\"type\": \"quantitative\", \"field\": \"Kilolitres\", \"scale\": {\"zero\": false}}}, \"height\": 500, \"selection\": {\"selector001\": {\"type\": \"interval\", \"bind\": \"scales\", \"encodings\": [\"x\", \"y\"]}}, \"width\": 1000, \"$schema\": \"https://vega.github.io/schema/vega-lite/v4.8.1.json\", \"datasets\": {\"data-ffbb099c9c938c055c3b20e6379918a2\": [{\"Date\": \"2019-01-04T00:15:00\", \"Kilolitres\": 4.37}, {\"Date\": \"2019-01-04T00:30:00\", \"Kilolitres\": 4.49}, {\"Date\": \"2019-01-04T00:45:00\", \"Kilolitres\": 3.87}, {\"Date\": \"2019-01-04T01:00:00\", \"Kilolitres\": 2.58}, {\"Date\": \"2019-01-04T01:15:00\", \"Kilolitres\": 2.6}, {\"Date\": \"2019-01-04T01:30:00\", \"Kilolitres\": 2.14}, {\"Date\": \"2019-01-04T01:45:00\", \"Kilolitres\": 1.77}, {\"Date\": \"2019-01-04T02:00:00\", \"Kilolitres\": 1.16}, {\"Date\": \"2019-01-04T02:15:00\", \"Kilolitres\": 0.52}, {\"Date\": \"2019-01-04T02:30:00\", \"Kilolitres\": 0.52}, {\"Date\": \"2019-01-04T02:45:00\", \"Kilolitres\": 0.5}, {\"Date\": \"2019-01-04T03:00:00\", \"Kilolitres\": 0.48}, {\"Date\": \"2019-01-04T03:15:00\", \"Kilolitres\": 0.49}, {\"Date\": \"2019-01-04T03:30:00\", \"Kilolitres\": 0.49}, {\"Date\": \"2019-01-04T03:45:00\", \"Kilolitres\": 0.48}, {\"Date\": \"2019-01-04T04:00:00\", \"Kilolitres\": 0.48}, {\"Date\": \"2019-01-04T04:15:00\", \"Kilolitres\": 0.46}, {\"Date\": \"2019-01-04T04:30:00\", \"Kilolitres\": 0.47}, {\"Date\": \"2019-01-04T04:45:00\", \"Kilolitres\": 0.43}, {\"Date\": \"2019-01-04T05:00:00\", \"Kilolitres\": 0.45}, {\"Date\": \"2019-01-04T05:15:00\", \"Kilolitres\": 0.42}, {\"Date\": \"2019-01-04T05:30:00\", \"Kilolitres\": 0.44}, {\"Date\": \"2019-01-04T05:45:00\", \"Kilolitres\": 0.45}, {\"Date\": \"2019-01-04T06:00:00\", \"Kilolitres\": 0.45}, {\"Date\": \"2019-01-04T06:15:00\", \"Kilolitres\": 0.44}, {\"Date\": \"2019-01-04T06:30:00\", \"Kilolitres\": 0.42}, {\"Date\": \"2019-01-04T06:45:00\", \"Kilolitres\": 0.5}, {\"Date\": \"2019-01-04T07:00:00\", \"Kilolitres\": 0.6}, {\"Date\": \"2019-01-04T07:15:00\", \"Kilolitres\": 0.56}, {\"Date\": \"2019-01-04T07:30:00\", \"Kilolitres\": 1.23}, {\"Date\": \"2019-01-04T07:45:00\", \"Kilolitres\": 1.98}, {\"Date\": \"2019-01-04T08:00:00\", \"Kilolitres\": 2.87}, {\"Date\": \"2019-01-04T08:15:00\", \"Kilolitres\": 2.83}, {\"Date\": \"2019-01-04T08:30:00\", \"Kilolitres\": 2.83}, {\"Date\": \"2019-01-04T08:45:00\", \"Kilolitres\": 2.98}, {\"Date\": \"2019-01-04T09:00:00\", \"Kilolitres\": 3.16}, {\"Date\": \"2019-01-04T09:15:00\", \"Kilolitres\": 3.06}, {\"Date\": \"2019-01-04T09:30:00\", \"Kilolitres\": 2.88}, {\"Date\": \"2019-01-04T09:45:00\", \"Kilolitres\": 3.02}, {\"Date\": \"2019-01-04T10:00:00\", \"Kilolitres\": 2.96}, {\"Date\": \"2019-01-04T10:15:00\", \"Kilolitres\": 4.29}, {\"Date\": \"2019-01-04T10:30:00\", \"Kilolitres\": 3.78}, {\"Date\": \"2019-01-04T10:45:00\", \"Kilolitres\": 3.47}, {\"Date\": \"2019-01-04T11:00:00\", \"Kilolitres\": 3.3}, {\"Date\": \"2019-01-04T11:15:00\", \"Kilolitres\": 3.44}, {\"Date\": \"2019-01-04T11:30:00\", \"Kilolitres\": 3.47}, {\"Date\": \"2019-01-04T11:45:00\", \"Kilolitres\": 3.22}, {\"Date\": \"2019-01-04T12:00:00\", \"Kilolitres\": 3.62}, {\"Date\": \"2019-01-04T12:15:00\", \"Kilolitres\": 3.17}, {\"Date\": \"2019-01-04T12:30:00\", \"Kilolitres\": 3.13}, {\"Date\": \"2019-01-04T12:45:00\", \"Kilolitres\": 3.14}, {\"Date\": \"2019-01-04T13:00:00\", \"Kilolitres\": 3.19}, {\"Date\": \"2019-01-04T13:15:00\", \"Kilolitres\": 3.73}, {\"Date\": \"2019-01-04T13:30:00\", \"Kilolitres\": 3.53}, {\"Date\": \"2019-01-04T13:45:00\", \"Kilolitres\": 3.6}, {\"Date\": \"2019-01-04T14:00:00\", \"Kilolitres\": 3.71}, {\"Date\": \"2019-01-04T14:15:00\", \"Kilolitres\": 3.37}, {\"Date\": \"2019-01-04T14:30:00\", \"Kilolitres\": 3.29}, {\"Date\": \"2019-01-04T14:45:00\", \"Kilolitres\": 3.01}, {\"Date\": \"2019-01-04T15:00:00\", \"Kilolitres\": 1.4}, {\"Date\": \"2019-01-04T15:15:00\", \"Kilolitres\": 0.67}, {\"Date\": \"2019-01-04T15:30:00\", \"Kilolitres\": 0.68}, {\"Date\": \"2019-01-04T15:45:00\", \"Kilolitres\": 0.6}, {\"Date\": \"2019-01-04T16:00:00\", \"Kilolitres\": 0.62}, {\"Date\": \"2019-01-04T16:15:00\", \"Kilolitres\": 0.54}, {\"Date\": \"2019-01-04T16:30:00\", \"Kilolitres\": 0.62}, {\"Date\": \"2019-01-04T16:45:00\", \"Kilolitres\": 0.66}, {\"Date\": \"2019-01-04T17:00:00\", \"Kilolitres\": 0.6}, {\"Date\": \"2019-01-04T17:15:00\", \"Kilolitres\": 0.66}, {\"Date\": \"2019-01-04T17:30:00\", \"Kilolitres\": 0.59}, {\"Date\": \"2019-01-04T17:45:00\", \"Kilolitres\": 0.6}, {\"Date\": \"2019-01-04T18:00:00\", \"Kilolitres\": 0.57}, {\"Date\": \"2019-01-04T18:15:00\", \"Kilolitres\": 0.57}, {\"Date\": \"2019-01-04T18:30:00\", \"Kilolitres\": 0.59}, {\"Date\": \"2019-01-04T18:45:00\", \"Kilolitres\": 0.59}, {\"Date\": \"2019-01-04T19:00:00\", \"Kilolitres\": 0.54}, {\"Date\": \"2019-01-04T19:15:00\", \"Kilolitres\": 0.56}, {\"Date\": \"2019-01-04T19:30:00\", \"Kilolitres\": 0.55}, {\"Date\": \"2019-01-04T19:45:00\", \"Kilolitres\": 0.54}, {\"Date\": \"2019-01-04T20:00:00\", \"Kilolitres\": 0.53}, {\"Date\": \"2019-01-04T20:15:00\", \"Kilolitres\": 0.5}, {\"Date\": \"2019-01-04T20:30:00\", \"Kilolitres\": 0.51}, {\"Date\": \"2019-01-04T20:45:00\", \"Kilolitres\": 0.53}, {\"Date\": \"2019-01-04T21:00:00\", \"Kilolitres\": 0.46}, {\"Date\": \"2019-01-04T21:15:00\", \"Kilolitres\": 0.36}, {\"Date\": \"2019-01-04T21:30:00\", \"Kilolitres\": 0.28}, {\"Date\": \"2019-01-04T21:45:00\", \"Kilolitres\": 0.33}, {\"Date\": \"2019-01-04T22:00:00\", \"Kilolitres\": 0.31}, {\"Date\": \"2019-01-04T22:15:00\", \"Kilolitres\": 0.34}, {\"Date\": \"2019-01-04T22:30:00\", \"Kilolitres\": 0.34}, {\"Date\": \"2019-01-04T22:45:00\", \"Kilolitres\": 0.3}, {\"Date\": \"2019-01-04T23:00:00\", \"Kilolitres\": 0.34}, {\"Date\": \"2019-01-04T23:15:00\", \"Kilolitres\": 0.32}, {\"Date\": \"2019-01-04T23:30:00\", \"Kilolitres\": 0.31}, {\"Date\": \"2019-01-04T23:45:00\", \"Kilolitres\": 14.24}, {\"Date\": \"2019-01-05T00:00:00\", \"Kilolitres\": 3.29}, {\"Date\": \"2019-01-05T00:15:00\", \"Kilolitres\": 3.77}, {\"Date\": \"2019-01-05T00:30:00\", \"Kilolitres\": 3.72}, {\"Date\": \"2019-01-05T00:45:00\", \"Kilolitres\": 1.4}, {\"Date\": \"2019-01-05T01:00:00\", \"Kilolitres\": 3.75}, {\"Date\": \"2019-01-05T01:15:00\", \"Kilolitres\": 3.36}, {\"Date\": \"2019-01-05T01:30:00\", \"Kilolitres\": 2.28}, {\"Date\": \"2019-01-05T01:45:00\", \"Kilolitres\": 1.76}, {\"Date\": \"2019-01-05T02:00:00\", \"Kilolitres\": 2.1}, {\"Date\": \"2019-01-05T02:15:00\", \"Kilolitres\": 2.02}, {\"Date\": \"2019-01-05T02:30:00\", \"Kilolitres\": 2.0}, {\"Date\": \"2019-01-05T02:45:00\", \"Kilolitres\": 2.07}, {\"Date\": \"2019-01-05T03:00:00\", \"Kilolitres\": 2.21}, {\"Date\": \"2019-01-05T03:15:00\", \"Kilolitres\": 2.05}, {\"Date\": \"2019-01-05T03:30:00\", \"Kilolitres\": 1.41}, {\"Date\": \"2019-01-05T03:45:00\", \"Kilolitres\": 1.37}, {\"Date\": \"2019-01-05T04:00:00\", \"Kilolitres\": 1.17}, {\"Date\": \"2019-01-05T04:15:00\", \"Kilolitres\": 0.72}, {\"Date\": \"2019-01-05T04:30:00\", \"Kilolitres\": 0.67}, {\"Date\": \"2019-01-05T04:45:00\", \"Kilolitres\": 0.45}, {\"Date\": \"2019-01-05T05:00:00\", \"Kilolitres\": 0.0}, {\"Date\": \"2019-01-05T05:15:00\", \"Kilolitres\": 0.0}, {\"Date\": \"2019-01-05T05:30:00\", \"Kilolitres\": 0.0}, {\"Date\": \"2019-01-05T05:45:00\", \"Kilolitres\": 0.0}, {\"Date\": \"2019-01-05T06:00:00\", \"Kilolitres\": 0.0}, {\"Date\": \"2019-01-05T06:15:00\", \"Kilolitres\": 0.43}, {\"Date\": \"2019-01-05T06:30:00\", \"Kilolitres\": 0.34}, {\"Date\": \"2019-01-05T06:45:00\", \"Kilolitres\": 0.2}, {\"Date\": \"2019-01-05T07:00:00\", \"Kilolitres\": 0.08}, {\"Date\": \"2019-01-05T07:15:00\", \"Kilolitres\": 0.66}, {\"Date\": \"2019-01-05T07:30:00\", \"Kilolitres\": 0.69}, {\"Date\": \"2019-01-05T07:45:00\", \"Kilolitres\": 1.11}, {\"Date\": \"2019-01-05T08:00:00\", \"Kilolitres\": 2.02}, {\"Date\": \"2019-01-05T08:15:00\", \"Kilolitres\": 1.23}, {\"Date\": \"2019-01-05T08:30:00\", \"Kilolitres\": 1.3}, {\"Date\": \"2019-01-05T08:45:00\", \"Kilolitres\": 1.27}, {\"Date\": \"2019-01-05T09:00:00\", \"Kilolitres\": 2.09}, {\"Date\": \"2019-01-05T09:15:00\", \"Kilolitres\": 1.21}, {\"Date\": \"2019-01-05T09:30:00\", \"Kilolitres\": 1.11}, {\"Date\": \"2019-01-05T09:45:00\", \"Kilolitres\": 1.1}, {\"Date\": \"2019-01-05T10:00:00\", \"Kilolitres\": 1.14}, {\"Date\": \"2019-01-05T10:15:00\", \"Kilolitres\": 1.22}, {\"Date\": \"2019-01-05T10:30:00\", \"Kilolitres\": 1.1}, {\"Date\": \"2019-01-05T10:45:00\", \"Kilolitres\": 0.88}, {\"Date\": \"2019-01-05T11:00:00\", \"Kilolitres\": 0.8}, {\"Date\": \"2019-01-05T11:15:00\", \"Kilolitres\": 0.65}, {\"Date\": \"2019-01-05T11:30:00\", \"Kilolitres\": 0.62}, {\"Date\": \"2019-01-05T11:45:00\", \"Kilolitres\": 0.98}, {\"Date\": \"2019-01-05T12:00:00\", \"Kilolitres\": 0.82}, {\"Date\": \"2019-01-05T12:15:00\", \"Kilolitres\": 0.67}, {\"Date\": \"2019-01-05T12:30:00\", \"Kilolitres\": 0.51}, {\"Date\": \"2019-01-05T12:45:00\", \"Kilolitres\": 0.43}, {\"Date\": \"2019-01-05T13:00:00\", \"Kilolitres\": 0.43}, {\"Date\": \"2019-01-05T13:15:00\", \"Kilolitres\": 0.55}, {\"Date\": \"2019-01-05T13:30:00\", \"Kilolitres\": 0.95}, {\"Date\": \"2019-01-05T13:45:00\", \"Kilolitres\": 0.98}, {\"Date\": \"2019-01-05T14:00:00\", \"Kilolitres\": 0.95}, {\"Date\": \"2019-01-05T14:15:00\", \"Kilolitres\": 1.29}, {\"Date\": \"2019-01-05T14:30:00\", \"Kilolitres\": 1.2}, {\"Date\": \"2019-01-05T14:45:00\", \"Kilolitres\": 0.77}, {\"Date\": \"2019-01-05T15:00:00\", \"Kilolitres\": 0.61}, {\"Date\": \"2019-01-05T15:15:00\", \"Kilolitres\": 0.25}, {\"Date\": \"2019-01-05T15:30:00\", \"Kilolitres\": 0.35}, {\"Date\": \"2019-01-05T15:45:00\", \"Kilolitres\": 0.33}, {\"Date\": \"2019-01-05T16:00:00\", \"Kilolitres\": 0.19}, {\"Date\": \"2019-01-05T16:15:00\", \"Kilolitres\": 0.24}, {\"Date\": \"2019-01-05T16:30:00\", \"Kilolitres\": 0.18}, {\"Date\": \"2019-01-05T16:45:00\", \"Kilolitres\": 0.18}, {\"Date\": \"2019-01-05T17:00:00\", \"Kilolitres\": 0.06}, {\"Date\": \"2019-01-05T17:15:00\", \"Kilolitres\": 0.23}, {\"Date\": \"2019-01-05T17:30:00\", \"Kilolitres\": 0.2}, {\"Date\": \"2019-01-05T17:45:00\", \"Kilolitres\": 0.0}, {\"Date\": \"2019-01-05T18:00:00\", \"Kilolitres\": 0.03}, {\"Date\": \"2019-01-05T18:15:00\", \"Kilolitres\": 0.02}, {\"Date\": \"2019-01-05T18:30:00\", \"Kilolitres\": 0.05}, {\"Date\": \"2019-01-05T18:45:00\", \"Kilolitres\": 0.02}, {\"Date\": \"2019-01-05T19:00:00\", \"Kilolitres\": 0.0}, {\"Date\": \"2019-01-05T19:15:00\", \"Kilolitres\": 0.0}, {\"Date\": \"2019-01-05T19:30:00\", \"Kilolitres\": 0.0}, {\"Date\": \"2019-01-05T19:45:00\", \"Kilolitres\": 0.0}, {\"Date\": \"2019-01-05T20:00:00\", \"Kilolitres\": 0.0}, {\"Date\": \"2019-01-05T20:15:00\", \"Kilolitres\": 0.0}, {\"Date\": \"2019-01-05T20:30:00\", \"Kilolitres\": 0.0}, {\"Date\": \"2019-01-05T20:45:00\", \"Kilolitres\": 0.0}, {\"Date\": \"2019-01-05T21:00:00\", \"Kilolitres\": 0.0}, {\"Date\": \"2019-01-05T21:15:00\", \"Kilolitres\": 15.7}, {\"Date\": \"2019-01-05T21:30:00\", \"Kilolitres\": 15.12}, {\"Date\": \"2019-01-05T21:45:00\", \"Kilolitres\": 12.91}, {\"Date\": \"2019-01-05T22:00:00\", \"Kilolitres\": 11.2}, {\"Date\": \"2019-01-05T22:15:00\", \"Kilolitres\": 9.71}, {\"Date\": \"2019-01-05T22:30:00\", \"Kilolitres\": 5.25}, {\"Date\": \"2019-01-05T22:45:00\", \"Kilolitres\": 8.63}, {\"Date\": \"2019-01-05T23:00:00\", \"Kilolitres\": 0.22}, {\"Date\": \"2019-01-05T23:15:00\", \"Kilolitres\": 0.0}, {\"Date\": \"2019-01-05T23:30:00\", \"Kilolitres\": 0.0}, {\"Date\": \"2019-01-05T23:45:00\", \"Kilolitres\": 0.0}]}}, {\"mode\": \"vega-lite\"});\n",
              "</script>"
            ]
          },
          "metadata": {
            "tags": []
          },
          "execution_count": 19
        }
      ]
    },
    {
      "cell_type": "code",
      "metadata": {
        "id": "KegNOtgPyVza",
        "colab_type": "code",
        "outputId": "dfe2249d-7c8c-4bea-d6a2-9e0133a1d70e",
        "colab": {
          "base_uri": "https://localhost:8080/",
          "height": 368
        }
      },
      "source": [
        "import altair as alt\n",
        "from vega_datasets import data\n",
        "\n",
        "source = data.driving()\n",
        "\n",
        "alt.Chart(source).mark_line(point=True).encode(\n",
        "    alt.X('miles', scale=alt.Scale(zero=False)),\n",
        "    alt.Y('gas', scale=alt.Scale(zero=False)),\n",
        "    order='year'\n",
        ")"
      ],
      "execution_count": 0,
      "outputs": [
        {
          "output_type": "execute_result",
          "data": {
            "text/plain": [
              "alt.Chart(...)"
            ],
            "text/html": [
              "\n",
              "<div id=\"altair-viz-83f4e665dbfb498096c64e7b51e8cc4c\"></div>\n",
              "<script type=\"text/javascript\">\n",
              "  (function(spec, embedOpt){\n",
              "    let outputDiv = document.currentScript.previousElementSibling;\n",
              "    if (outputDiv.id !== \"altair-viz-83f4e665dbfb498096c64e7b51e8cc4c\") {\n",
              "      outputDiv = document.getElementById(\"altair-viz-83f4e665dbfb498096c64e7b51e8cc4c\");\n",
              "    }\n",
              "    const paths = {\n",
              "      \"vega\": \"https://cdn.jsdelivr.net/npm//vega@5?noext\",\n",
              "      \"vega-lib\": \"https://cdn.jsdelivr.net/npm//vega-lib?noext\",\n",
              "      \"vega-lite\": \"https://cdn.jsdelivr.net/npm//vega-lite@4.8.1?noext\",\n",
              "      \"vega-embed\": \"https://cdn.jsdelivr.net/npm//vega-embed@6?noext\",\n",
              "    };\n",
              "\n",
              "    function loadScript(lib) {\n",
              "      return new Promise(function(resolve, reject) {\n",
              "        var s = document.createElement('script');\n",
              "        s.src = paths[lib];\n",
              "        s.async = true;\n",
              "        s.onload = () => resolve(paths[lib]);\n",
              "        s.onerror = () => reject(`Error loading script: ${paths[lib]}`);\n",
              "        document.getElementsByTagName(\"head\")[0].appendChild(s);\n",
              "      });\n",
              "    }\n",
              "\n",
              "    function showError(err) {\n",
              "      outputDiv.innerHTML = `<div class=\"error\" style=\"color:red;\">${err}</div>`;\n",
              "      throw err;\n",
              "    }\n",
              "\n",
              "    function displayChart(vegaEmbed) {\n",
              "      vegaEmbed(outputDiv, spec, embedOpt)\n",
              "        .catch(err => showError(`Javascript Error: ${err.message}<br>This usually means there's a typo in your chart specification. See the javascript console for the full traceback.`));\n",
              "    }\n",
              "\n",
              "    if(typeof define === \"function\" && define.amd) {\n",
              "      requirejs.config({paths});\n",
              "      require([\"vega-embed\"], displayChart, err => showError(`Error loading script: ${err.message}`));\n",
              "    } else if (typeof vegaEmbed === \"function\") {\n",
              "      displayChart(vegaEmbed);\n",
              "    } else {\n",
              "      loadScript(\"vega\")\n",
              "        .then(() => loadScript(\"vega-lite\"))\n",
              "        .then(() => loadScript(\"vega-embed\"))\n",
              "        .catch(showError)\n",
              "        .then(() => displayChart(vegaEmbed));\n",
              "    }\n",
              "  })({\"config\": {\"view\": {\"continuousWidth\": 400, \"continuousHeight\": 300}}, \"data\": {\"name\": \"data-e24c277102dddc2eceb7d9aaeb087c70\"}, \"mark\": {\"type\": \"line\", \"point\": true}, \"encoding\": {\"order\": {\"type\": \"quantitative\", \"field\": \"year\"}, \"x\": {\"type\": \"quantitative\", \"field\": \"miles\", \"scale\": {\"zero\": false}}, \"y\": {\"type\": \"quantitative\", \"field\": \"gas\", \"scale\": {\"zero\": false}}}, \"$schema\": \"https://vega.github.io/schema/vega-lite/v4.8.1.json\", \"datasets\": {\"data-e24c277102dddc2eceb7d9aaeb087c70\": [{\"side\": \"left\", \"year\": 1956, \"miles\": 3675, \"gas\": 2.38}, {\"side\": \"right\", \"year\": 1957, \"miles\": 3706, \"gas\": 2.4}, {\"side\": \"bottom\", \"year\": 1958, \"miles\": 3766, \"gas\": 2.26}, {\"side\": \"top\", \"year\": 1959, \"miles\": 3905, \"gas\": 2.31}, {\"side\": \"right\", \"year\": 1960, \"miles\": 3935, \"gas\": 2.27}, {\"side\": \"bottom\", \"year\": 1961, \"miles\": 3977, \"gas\": 2.25}, {\"side\": \"right\", \"year\": 1962, \"miles\": 4085, \"gas\": 2.22}, {\"side\": \"bottom\", \"year\": 1963, \"miles\": 4218, \"gas\": 2.12}, {\"side\": \"bottom\", \"year\": 1964, \"miles\": 4369, \"gas\": 2.11}, {\"side\": \"bottom\", \"year\": 1965, \"miles\": 4538, \"gas\": 2.14}, {\"side\": \"top\", \"year\": 1966, \"miles\": 4676, \"gas\": 2.14}, {\"side\": \"bottom\", \"year\": 1967, \"miles\": 4827, \"gas\": 2.14}, {\"side\": \"right\", \"year\": 1968, \"miles\": 5038, \"gas\": 2.13}, {\"side\": \"right\", \"year\": 1969, \"miles\": 5207, \"gas\": 2.07}, {\"side\": \"right\", \"year\": 1970, \"miles\": 5376, \"gas\": 2.01}, {\"side\": \"bottom\", \"year\": 1971, \"miles\": 5617, \"gas\": 1.9300000000000002}, {\"side\": \"bottom\", \"year\": 1972, \"miles\": 5973, \"gas\": 1.87}, {\"side\": \"right\", \"year\": 1973, \"miles\": 6154, \"gas\": 1.9}, {\"side\": \"left\", \"year\": 1974, \"miles\": 5943, \"gas\": 2.34}, {\"side\": \"bottom\", \"year\": 1975, \"miles\": 6111, \"gas\": 2.31}, {\"side\": \"bottom\", \"year\": 1976, \"miles\": 6389, \"gas\": 2.32}, {\"side\": \"top\", \"year\": 1977, \"miles\": 6630, \"gas\": 2.36}, {\"side\": \"bottom\", \"year\": 1978, \"miles\": 6883, \"gas\": 2.23}, {\"side\": \"left\", \"year\": 1979, \"miles\": 6744, \"gas\": 2.68}, {\"side\": \"left\", \"year\": 1980, \"miles\": 6672, \"gas\": 3.3}, {\"side\": \"right\", \"year\": 1981, \"miles\": 6732, \"gas\": 3.3}, {\"side\": \"right\", \"year\": 1982, \"miles\": 6835, \"gas\": 2.92}, {\"side\": \"right\", \"year\": 1983, \"miles\": 6943, \"gas\": 2.66}, {\"side\": \"right\", \"year\": 1984, \"miles\": 7130, \"gas\": 2.48}, {\"side\": \"right\", \"year\": 1985, \"miles\": 7323, \"gas\": 2.36}, {\"side\": \"left\", \"year\": 1986, \"miles\": 7558, \"gas\": 1.76}, {\"side\": \"top\", \"year\": 1987, \"miles\": 7770, \"gas\": 1.76}, {\"side\": \"bottom\", \"year\": 1988, \"miles\": 8089, \"gas\": 1.6800000000000002}, {\"side\": \"left\", \"year\": 1989, \"miles\": 8397, \"gas\": 1.75}, {\"side\": \"top\", \"year\": 1990, \"miles\": 8529, \"gas\": 1.88}, {\"side\": \"right\", \"year\": 1991, \"miles\": 8535, \"gas\": 1.78}, {\"side\": \"right\", \"year\": 1992, \"miles\": 8662, \"gas\": 1.69}, {\"side\": \"left\", \"year\": 1993, \"miles\": 8855, \"gas\": 1.6}, {\"side\": \"bottom\", \"year\": 1994, \"miles\": 8909, \"gas\": 1.5899999999999999}, {\"side\": \"bottom\", \"year\": 1995, \"miles\": 9150, \"gas\": 1.6}, {\"side\": \"top\", \"year\": 1996, \"miles\": 9192, \"gas\": 1.67}, {\"side\": \"right\", \"year\": 1997, \"miles\": 9416, \"gas\": 1.65}, {\"side\": \"bottom\", \"year\": 1998, \"miles\": 9590, \"gas\": 1.3900000000000001}, {\"side\": \"right\", \"year\": 1999, \"miles\": 9687, \"gas\": 1.5}, {\"side\": \"top\", \"year\": 2000, \"miles\": 9717, \"gas\": 1.8900000000000001}, {\"side\": \"left\", \"year\": 2001, \"miles\": 9699, \"gas\": 1.77}, {\"side\": \"bottom\", \"year\": 2002, \"miles\": 9814, \"gas\": 1.6400000000000001}, {\"side\": \"right\", \"year\": 2003, \"miles\": 9868, \"gas\": 1.8599999999999999}, {\"side\": \"left\", \"year\": 2004, \"miles\": 9994, \"gas\": 2.14}, {\"side\": \"left\", \"year\": 2005, \"miles\": 10067, \"gas\": 2.5300000000000002}, {\"side\": \"right\", \"year\": 2006, \"miles\": 10037, \"gas\": 2.79}, {\"side\": \"right\", \"year\": 2007, \"miles\": 10025, \"gas\": 2.95}, {\"side\": \"left\", \"year\": 2008, \"miles\": 9880, \"gas\": 3.31}, {\"side\": \"bottom\", \"year\": 2009, \"miles\": 9657, \"gas\": 2.38}, {\"side\": \"left\", \"year\": 2010, \"miles\": 9596, \"gas\": 2.61}]}}, {\"mode\": \"vega-lite\"});\n",
              "</script>"
            ]
          },
          "metadata": {
            "tags": []
          },
          "execution_count": 55
        }
      ]
    }
  ]
}